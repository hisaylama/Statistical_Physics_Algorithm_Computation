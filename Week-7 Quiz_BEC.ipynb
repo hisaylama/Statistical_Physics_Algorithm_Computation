{
 "cells": [
  {
   "cell_type": "markdown",
   "metadata": {},
   "source": [
    "## Practice quiz 7: BEC\n",
    "\n",
    "**1.** Bose-Einstein condensation for ideal Bosons is characterized by the following property\n",
    "\n",
    "A large number of particles are in the same qunautm state, in fact in the single particle ground state."
   ]
  }
 ],
 "metadata": {
  "kernelspec": {
   "display_name": "Python 3",
   "language": "python",
   "name": "python3"
  },
  "language_info": {
   "codemirror_mode": {
    "name": "ipython",
    "version": 3
   },
   "file_extension": ".py",
   "mimetype": "text/x-python",
   "name": "python",
   "nbconvert_exporter": "python",
   "pygments_lexer": "ipython3",
   "version": "3.8.5"
  }
 },
 "nbformat": 4,
 "nbformat_minor": 4
}
