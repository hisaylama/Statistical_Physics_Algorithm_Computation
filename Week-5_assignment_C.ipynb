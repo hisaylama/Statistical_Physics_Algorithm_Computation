{
 "cells": [
  {
   "cell_type": "markdown",
   "metadata": {},
   "source": [
    "#### Week - 5. Assignment (Section C)\n",
    "\n",
    "Here, the focus is the quantum statistical mechnaics, the harmonic and anharonic oscillator, it other words: a particle in a harmonic or an anharmonic potential\n",
    "\n",
    "**C.**\n",
    "\n",
    "In this section, you will adapt your programs of sections **B1** (matrix squaring) and **B2** (Path integral Monte Carlo) for the anharmonic oscilator, we no longer have an analytic solution for $\\rho(x,x, \\beta)$ against which we can check our results. Nevertheless, in Section **C3**, we will obtain some analytical control over our calculations.\n",
    "\n",
    "We replace the harmonic potential<br>\n",
    "pot =  x ** 2 / 2.0<br>\n",
    "with a anharmonic potential<br>\n",
    "pot =  x ** 2 / 2.0 + cubic * x ** 3 + quartic * x ** 4<br>\n",
    "\n",
    "which depends on two additional parameters ('cubic' and 'quartic').\n",
    "\n",
    "In what follows, we will always consider the case in which **cubic=-quartic**. In addition, we always consider **quartic > 0**. This condition makes sure that the potential is + infinity in the limits of **$x \\rightarrow \\pm \\infty$**. This assures that our particle does not run away to infinity.\n",
    "\n",
    "**C1**\n",
    "\n",
    "Modify the matrix-squaring program in Section **B1** for the anisotropic oscillator **(we suggest you copy the content of Section B1 to a new directory, then modify)**.\n",
    "\n",
    "To this aim,\n",
    "\n",
    "- **Write a Python function V(x, cubic, quartic)** (\"def V(x,cubic,quartic): ... \")  which returns the anharmonic potential, based on the above  definition.\n",
    "\n",
    "- **Write a Python function rho_anharmonic_trotter**. In this function, replace 0.5 * (x ** 2 + xp ** 2) by V(x, cubic, quartic) + V(x', cubic, quartic). In rho_harmonic_trotter, there is another factor \"-0.5\". Make sure to keep it:  the Trotter approximation reads rho(x,x',beta) = exp(-beta V(x) / 2) rho_free(x, x', beta) exp(-beta V(x') / 2).\n",
    "\n",
    "- As in Section **B1**, produce a plot of pi(x), obtained by normalizing the diagonal of the density matrix (see code snippet in **B1**).\n",
    "\n",
    "- **Make sure you check the program for cubic = quartic = 0**, where it should be identical to what you obtained in Section B1.\n",
    "\n",
    "Then use quartic = - cubic = 1.0 and: \n",
    "\n",
    "Run your program for beta=4, and **keep the data file** for Section **C2**. **Upload your program**.\n",
    "\n"
   ]
  },
  {
   "cell_type": "code",
   "execution_count": 1,
   "metadata": {},
   "outputs": [
    {
     "data": {
      "image/png": "[encoded data removed]",
      "text/plain": [
       "<Figure size 432x288 with 1 Axes>"
      ]
     },
     "metadata": {
      "needs_background": "light"
     },
     "output_type": "display_data"
    }
   ],
   "source": [
    "import math, numpy\n",
    "import matplotlib.pyplot as plt\n",
    "import pylab\n",
    "\n",
    "#Defining a potential having a coefficients 'cubic' and 'quartic'\n",
    "def V(x, cubic, quartic):\n",
    "    return (x ** 2 / 2.0 + cubic * x ** 3 + quartic * x ** 4)\n",
    "\n",
    "# Free off-diagonal density matrix\n",
    "def rho_free(x, xp, beta):\n",
    "    return (math.exp(-(x - xp) ** 2 / (2.0 * beta)) /\n",
    "            math.sqrt(2.0 * math.pi * beta))\n",
    "\n",
    "# Anharmonic density matrix in the Trotter approximation (returns the full matrix)\n",
    "def rho_anharmonic_trotter(grid, beta):\n",
    "    return numpy.array([[rho_free(x, xp, beta) * \\\n",
    "                         numpy.exp(-0.5 * beta * (V(x, cubic, quartic) + V(xp, cubic, quartic))) \\\n",
    "                         for x in grid] for xp in grid])\n",
    "\n",
    "x_max = 5.0\n",
    "nx = 100\n",
    "dx = 2.0 * x_max / (nx - 1)\n",
    "x = [i * dx for i in range(-(nx - 1) // 2, nx // 2 + 1)]\n",
    "beta_tmp = 2.0 ** (-5)                   # initial value of beta (power of 2)\n",
    "beta     = 2.0 ** 2                      # actual value of beta (power of 2)\n",
    "\n",
    "cubic = -1.0\n",
    "quartic = 1.0\n",
    "rho = rho_anharmonic_trotter(x, beta_tmp)  # density matrix at initial beta\n",
    "while beta_tmp < beta:\n",
    "    rho = numpy.dot(rho, rho)\n",
    "    rho *= dx\n",
    "    beta_tmp *= 2.0\n",
    "    #print ('beta: %s -> %s' % (beta_tmp / 2.0, beta_tmp))\n",
    "    Z = sum(rho[j, j] for j in range(nx + 1)) * dx\n",
    "    pi_of_x = [rho[j, j] / Z for j in range(nx + 1)]\n",
    "    f = open('data_anharm_matrixsquaring_beta' + str(beta) + '.dat', 'w')\n",
    "    for j in range(nx + 1):\n",
    "        f.write(str(x[j]) + ' ' + str(rho[j, j] / Z) + '\\n')\n",
    "    f.close()\n",
    "\n",
    "#Code for reading a file with (2xn) list\n",
    "def read_file(filename):\n",
    "    list_x = []\n",
    "    list_y = []\n",
    "    with open(filename) as f:\n",
    "        for line in f:\n",
    "            x, y = line.split()\n",
    "            list_x.append(float(x))\n",
    "            list_y.append(float(y))\n",
    "    f.close()\n",
    "    return list_x, list_y\n",
    "\n",
    "filename = 'data_anharm_matrixsquaring_beta4.0.dat'\n",
    "[list_x, list_y] = read_file(filename)\n",
    "plt.plot(list_x, list_y,'-o',color = 'red')\n",
    "plt.xlim(-5,5)\n",
    "plt.xlabel('x')\n",
    "plt.ylabel('$\\pi(x)$')\n",
    "plt.title('$\\pi(x)$ vs x, beta = 4.0')\n",
    "pylab.savefig('Probablity_anharm_1_beta_4.png')"
   ]
  },
  {
   "cell_type": "code",
   "execution_count": 2,
   "metadata": {},
   "outputs": [
    {
     "data": {
      "image/png": "[encoded data removed]",
      "text/plain": [
       "<Figure size 432x288 with 1 Axes>"
      ]
     },
     "metadata": {
      "needs_background": "light"
     },
     "output_type": "display_data"
    }
   ],
   "source": [
    "x_max = 5.0\n",
    "nx = 100\n",
    "dx = 2.0 * x_max / (nx - 1)\n",
    "x = [i * dx for i in range(-(nx - 1) // 2, nx // 2 + 1)]\n",
    "beta_tmp = 2.0 ** (-5)                   # initial value of beta (power of 2)\n",
    "beta     = 2.0 ** 2                      # actual value of beta (power of 2)\n",
    "\n",
    "cubic = 0.0\n",
    "quartic = 0.0\n",
    "rho = rho_anharmonic_trotter(x, beta_tmp)  # density matrix at initial beta\n",
    "while beta_tmp < beta:\n",
    "    rho = numpy.dot(rho, rho)\n",
    "    rho *= dx\n",
    "    beta_tmp *= 2.0\n",
    "    #print ('beta: %s -> %s' % (beta_tmp / 2.0, beta_tmp))\n",
    "    Z = sum(rho[j, j] for j in range(nx + 1)) * dx\n",
    "    pi_of_x = [rho[j, j] / Z for j in range(nx + 1)]\n",
    "    f = open('data_anharm_matrixsquaring_beta1' + str(beta) + '.dat', 'w')\n",
    "    for j in range(nx + 1):\n",
    "        f.write(str(x[j]) + ' ' + str(rho[j, j] / Z) + '\\n')\n",
    "    f.close()\n",
    "\n",
    "#Code for reading a file with (2xn) list\n",
    "def read_file(filename):\n",
    "    list_x = []\n",
    "    list_y = []\n",
    "    with open(filename) as f:\n",
    "        for line in f:\n",
    "            x, y = line.split()\n",
    "            list_x.append(float(x))\n",
    "            list_y.append(float(y))\n",
    "    f.close()\n",
    "    return list_x, list_y\n",
    "\n",
    "filename = 'data_anharm_matrixsquaring_beta14.0.dat'\n",
    "[list_x, list_y] = read_file(filename)\n",
    "plt.plot(list_x, list_y,'-o',color = 'red')\n",
    "plt.xlim(-5,5)\n",
    "plt.xlabel('x')\n",
    "plt.ylabel('$\\pi(x)$')\n",
    "plt.title('$\\pi(x)$ vs x, beta = 4.0')\n",
    "pylab.savefig('Probablity_anharm_2_beta_4.png')"
   ]
  },
  {
   "cell_type": "markdown",
   "metadata": {},
   "source": [
    "**C2.**\n",
    "\n",
    "We again suggest that you work in a new directory. <br>\n",
    "\n",
    "- Incorporate the changes you performed in Section **C1** for the matrix-squaring program into the path-integral simulation program of Section **B2** in order to have a path-integral Monte Carlo program for the anharmonic oscillator. This program should incorporate V(x,cubic,quartic) as in Section **C1**. In the acceptance probability, the harmonic potential should be replaced by **V(x,cubic,quartic)**.<br>\n",
    "\n",
    "- As in **B2**, add a few lines to read in the corresponding data from the matrix-squaring (make sure you are reading in the data for the anharmonic oscillator).<br>\n",
    "\n",
    "Then:<br>\n",
    "\n",
    "Run your modified Quantum Monte Carlo program with $\\beta=4$ and $N=16$, and with quartic=1.0. Upload your program.\n",
    "\n"
   ]
  },
  {
   "cell_type": "code",
   "execution_count": 3,
   "metadata": {},
   "outputs": [
    {
     "data": {
      "image/png": "[encoded data removed]",
      "text/plain": [
       "<Figure size 432x288 with 1 Axes>"
      ]
     },
     "metadata": {
      "needs_background": "light"
     },
     "output_type": "display_data"
    }
   ],
   "source": [
    "import math, random\n",
    "\n",
    "def rho_free(x, x1, beta):    # free off-diagonal density matrix\n",
    "    return math.exp(-(x - x1) ** 2 / (2.0 * beta)) \n",
    "\n",
    "quartic = 1.0\n",
    "cubic = -1.0\n",
    "beta = 4.0\n",
    "N =16                                           # number of slices\n",
    "dtau = beta / N\n",
    "delta = 0.1                                      # maximum displacement on one slice\n",
    "n_steps =1000000                                # number of Monte Carlo steps\n",
    "x = [0.0] * N                                     # initial path\n",
    "y_hist = []\n",
    "for step in range(n_steps):\n",
    "    k = random.randint(0, N - 1)                  # random slice\n",
    "    knext, kprev = (k + 1) % N, (k - 1) % N       # next/previous slices\n",
    "    x_new = x[k] + random.uniform(-delta, delta)  # new position at slice k\n",
    "    \n",
    "    old_weight  = (rho_free(x[knext], x[k], dtau) *\n",
    "                   rho_free(x[k], x[kprev], dtau) *\n",
    "                   math.exp(-0.5 * dtau * V(x[k], cubic, quartic) ** 2))\n",
    "    new_weight  = (rho_free(x[knext], x_new, dtau) *\n",
    "                   rho_free(x_new, x[kprev], dtau) *\n",
    "                   math.exp(-0.5 * dtau * V(x_new, cubic, quartic) ** 2))\n",
    "    if random.uniform(0.0, 1.0) < new_weight / old_weight:\n",
    "        x[k] = x_new\n",
    "        if step%10 == 0:\n",
    "            y_hist.append(x[0])\n",
    "\n",
    "pylab.hist(y_hist, 200, density = 'True', stacked = 'True', ec = 'black')\n",
    "\n",
    "#Code for reading a file with (2xn) list\n",
    "def read_file(filename):\n",
    "    list_x = []\n",
    "    list_y = []\n",
    "    with open(filename) as f:\n",
    "        for line in f:\n",
    "            x, y = line.split()\n",
    "            list_x.append(float(x))\n",
    "            list_y.append(float(y))\n",
    "    f.close()\n",
    "    return list_x, list_y\n",
    "\n",
    "filename = 'data_anharm_matrixsquaring_beta4.0.dat'\n",
    "[list_x, list_y] = read_file(filename)\n",
    "plt.plot(list_x, list_y, color = 'red')\n",
    "plt.xlim(-2,2)\n",
    "plt.xlabel('x[0]')\n",
    "plt.ylabel('$\\pi(x)$')\n",
    "plt.legend(['matrix squaring', 'QMC'])\n",
    "plt.title('$\\pi(x)$ vs x, beta = 4.0, quartic = 1.0')\n",
    "pylab.savefig('Probablity_anharm_QMC1_beta_4.png')"
   ]
  },
  {
   "cell_type": "markdown",
   "metadata": {},
   "source": [
    "**C2 (continued)**\n",
    "\n",
    "Upload the graphics file comparing the Quantum Monte Carlo data and the matrix-squaring data. Make sure that the graph has a title giving the parameters cubic and quartic, that axes are labeled and that there is a legend for each histogram or curve. Use pylab.xlim(.., ...), as explained in Section B2, in order to restrict the graph to the most interesting part without changing the normalization.\n",
    "\n",
    "NB:\n",
    "In this one-dimensional problem, we may compare Quantum Monte Carlo \n",
    "with Matrix squaring, but already in three dimensions, the matrix \n",
    "squaring is no longer feasible. Quantum Monte Carlo is all that remains"
   ]
  },
  {
   "cell_type": "code",
   "execution_count": 4,
   "metadata": {},
   "outputs": [
    {
     "data": {
      "image/png": "[encoded data removed]",
      "text/plain": [
       "<Figure size 432x288 with 1 Axes>"
      ]
     },
     "metadata": {
      "needs_background": "light"
     },
     "output_type": "display_data"
    }
   ],
   "source": [
    "pylab.hist(y_hist, 200, density = 'True', stacked = 'True', ec = 'black')\n",
    "\n",
    "#Code for reading a file with (2xn) list\n",
    "def read_file(filename):\n",
    "    list_x = []\n",
    "    list_y = []\n",
    "    with open(filename) as f:\n",
    "        for line in f:\n",
    "            x, y = line.split()\n",
    "            list_x.append(float(x))\n",
    "            list_y.append(float(y))\n",
    "    f.close()\n",
    "    return list_x, list_y\n",
    "\n",
    "filename = 'data_anharm_matrixsquaring_beta4.0.dat'\n",
    "[list_x, list_y] = read_file(filename)\n",
    "plt.plot(list_x, list_y, color = 'red')\n",
    "plt.xlim(-2,2)\n",
    "plt.xlabel('x[0]')\n",
    "plt.ylabel('$\\pi(x)$')\n",
    "plt.legend(['matrix squaring', 'QMC'])\n",
    "plt.title('$\\pi(x)$ vs x, beta = 4.0, quartic = 1.0')\n",
    "pylab.savefig('Probablity_anharm_QMC2_beta_4.png')"
   ]
  },
  {
   "cell_type": "markdown",
   "metadata": {},
   "source": [
    "**C3.**\n",
    "\n",
    "NB: This Section is  more specialized.  The aim is to gain some analytical control over the results obtained in Section C1.\n",
    "\n",
    "When the cubic and quartic parameters are rather small, the anharmonic potential is similar to the harmonic one. In this case, there exists a perturbative  expression for the energy levels E_n(cubic, quartic) of the anharmonic oscillator. This expression (that is too complicated for us to derive) allows us to compute the partition function \\sum_n exp(-beta E_n) for small cubic and quartic (this is the meaning of the word \"perturbative\"), but it becomes totally wrong at \n",
    "larger values of the parameters.\n",
    "\n",
    "Here is the code snippet which does that for us:\n",
    "\n",
    "\n",
    "def Energy_pert(n, cubic, quartic):<br>\n",
    "    return n + 0.5 - 15.0 / 4.0 * cubic **2 * (n ** 2 + n + 11.0 / 30.0) \\ <br>\n",
    "         + 3.0 / 2.0 * quartic * (n ** 2 + n + 1.0 / 2.0)<br>\n",
    "\n",
    "def Z_pert(cubic, quartic, beta, n_max):<br>\n",
    "    Z = sum(math.exp(-beta * Energy_pert(n, cubic, quartic)) for n in range(n_max + 1))<br>\n",
    "    return Z<br>\n",
    "    \n",
    "Modify the matrix-squaring program of Section **C1** so that it allows to compute the approximate partition function, as shown in the snippet.\n",
    "\n",
    "- Upload your modified matrix-squaring program. Run this program for quartic= - cubic = 0.001,0.01,0.1,0.2,0.3,0.4,0.5, at inverse temperature beta = 2.0. For each one of these values, compute the diagonal density matrix through matrix-squaring, and extract the partition function Z in the following way (as already done in Section B1):\n",
    "\n",
    "Z = sum(rho[j, j] for j in range(nx + 1)) * dx"
   ]
  },
  {
   "cell_type": "code",
   "execution_count": 5,
   "metadata": {},
   "outputs": [
    {
     "name": "stdout",
     "output_type": "stream",
     "text": [
      "Estimation of Zpert directly:\n",
      "\n",
      "Zpert0 0.424365129707959\n",
      "Zpert1 0.4150524186187612\n",
      "Zpert2 0.3551514716022911\n",
      "Zpert3 0.32775877165084777\n",
      "Zpert4 0.327846128879344\n",
      "Zpert5 0.362552298948946\n",
      "Zpert6 3.699684740076945e+50\n"
     ]
    }
   ],
   "source": [
    "import math, numpy\n",
    "import matplotlib.pyplot as plt\n",
    "import pylab\n",
    "\n",
    "\n",
    "def Energy_pert(n, cubic, quartic):\n",
    "    return n + 0.5 - 15.0 / 4.0 * cubic **2 * (n ** 2 + n + 11.0 / 30.0) \\\n",
    "         + 3.0 / 2.0 * quartic * (n ** 2 + n + 1.0 / 2.0)\n",
    "\n",
    "def Z_pert(cubic, quartic, beta, n_max):\n",
    "    Z = sum(math.exp(-beta * Energy_pert(n, cubic, quartic)) for n in range(n_max + 1))\n",
    "    return Z\n",
    "\n",
    "nx = 20\n",
    "beta = 2.0                  # actual value of beta (power of 2)\n",
    "\n",
    "import numpy as np\n",
    "quartic= np.array([0.001,0.01,0.1,0.2,0.3,0.4,0.5])\n",
    "cubic= np.array([0.001,0.01,0.1,0.2,0.3,0.4,0.5])*(-1)\n",
    "\n",
    "print(\"Estimation of Zpert directly:\\n\")\n",
    "for ii in range(len(quartic)):\n",
    "    Z = Z_pert(cubic[ii],quartic[ii], beta, nx)\n",
    "    print('Zpert' + str(ii),Z)\n"
   ]
  },
  {
   "cell_type": "code",
   "execution_count": 6,
   "metadata": {},
   "outputs": [
    {
     "name": "stdout",
     "output_type": "stream",
     "text": [
      "Z_simulation0 0.4243761801589153\n",
      "Z_simulation1 0.4243761801589153\n",
      "Z_simulation2 0.4243761801589153\n",
      "Z_simulation3 0.4243761801589153\n",
      "Z_simulation4 0.4243761801589153\n",
      "Z_simulation5 0.4243761801589153\n",
      "Z_simulation6 0.4243761801589153\n"
     ]
    }
   ],
   "source": [
    "import math, numpy\n",
    "import matplotlib.pyplot as plt\n",
    "import pylab\n",
    "\n",
    "#Defining a potential having a coefficients 'cubic' and 'quartic'\n",
    "def V(x, cubic, quartic):\n",
    "    return (x ** 2 / 2.0 + cubic * x ** 3 + quartic * x ** 4)\n",
    "\n",
    "# Free off-diagonal density matrix\n",
    "def rho_free(x, xp, beta):\n",
    "    return (math.exp(-(x - xp) ** 2 / (2.0 * beta)) /\n",
    "            math.sqrt(2.0 * math.pi * beta))\n",
    "\n",
    "# Anharmonic density matrix in the Trotter approximation (returns the full matrix)\n",
    "def rho_anharmonic_trotter(grid, beta):\n",
    "    return numpy.array([[rho_free(x, xp, beta) * \\\n",
    "                         numpy.exp(-0.5 * beta * (V(x, cubic, quartic) + V(xp, cubic, quartic))) \\\n",
    "                         for x in grid] for xp in grid])\n",
    "\n",
    "x_max = 5.0\n",
    "nx = 100\n",
    "dx = 2.0 * x_max / (nx - 1)\n",
    "x = [i * dx for i in range(-(nx - 1) // 2, nx // 2 + 1)]\n",
    "beta_tmp = 2.0 ** (-6)                   # initial value of beta (power of 2)\n",
    "beta     = 2.0 ** 1                      # actual value of beta (power of 2)\n",
    "\n",
    "import numpy as np\n",
    "quartic1= np.array([0.001,0.01,0.1,0.2,0.3,0.4,0.5])\n",
    "cubic1= np.array([0.001,0.01,0.1,0.2,0.3,0.4,0.5])*(-1)\n",
    "\n",
    "for ii in range(len(quartic1)):\n",
    "    cubic = cubic1[ii]\n",
    "    #print(cubic)\n",
    "    quartic = quartic1[ii]\n",
    "    rho = rho_anharmonic_trotter(x, beta_tmp)  # density matrix at initial beta\n",
    "    while beta_tmp < beta:\n",
    "        rho = numpy.dot(rho, rho)\n",
    "        rho *= dx\n",
    "        beta_tmp *= 2.0\n",
    "        #print ('beta: %s -> %s' % (beta_tmp / 2.0, beta_tmp))\n",
    "        Z1 = sum(rho[j, j] for j in range(nx + 1)) * dx\n",
    "    print('Z_simulation' + str(ii), Z1)\n"
   ]
  },
  {
   "cell_type": "code",
   "execution_count": 7,
   "metadata": {},
   "outputs": [
    {
     "name": "stdout",
     "output_type": "stream",
     "text": [
      "0.424365129707959\n",
      "0.4150524186187612\n",
      "0.3551514716022911\n",
      "0.32775877165084777\n",
      "0.327846128879344\n",
      "0.362552298948946\n",
      "3.699684740076945e+50\n"
     ]
    }
   ],
   "source": [
    "import numpy as np\n",
    "quartic= np.array([0.001,0.01,0.1,0.2,0.3,0.4,0.5])\n",
    "cubic= np.array([0.001,0.01,0.1,0.2,0.3,0.4,0.5])*(-1)\n",
    "n = 20\n",
    "for ii in range(len(quartic)):\n",
    "    Z = Z_pert(cubic[ii],quartic[ii], beta, n)\n",
    "    print(Z)"
   ]
  },
  {
   "cell_type": "code",
   "execution_count": 8,
   "metadata": {},
   "outputs": [],
   "source": [
    "#Defining a potential having a coefficients 'cubic' and 'quartic'\n",
    "def V(x, cubic, quartic):\n",
    "    return (x ** 2 / 2.0 + cubic * x ** 3 + quartic * x ** 4)\n",
    "\n",
    "# Free off-diagonal density matrix\n",
    "def rho_free(x, xp, beta):\n",
    "    return (math.exp(-(x - xp) ** 2 / (2.0 * beta)) /\n",
    "            math.sqrt(2.0 * math.pi * beta))\n",
    "\n",
    "# Anharmonic density matrix in the Trotter approximation (returns the full matrix)\n",
    "def rho_anharmonic_trotter(grid, beta):\n",
    "    return numpy.array([[rho_free(x, xp, beta) * \\\n",
    "                         numpy.exp(-0.5 * beta * (V(x, cubic, quartic) + V(xp, cubic, quartic))) \\\n",
    "                         for x in grid] for xp in grid])\n",
    "\n",
    "x_max = 5.0\n",
    "nx = 100\n",
    "dx = 2.0 * x_max / (nx - 1)\n",
    "x = [i * dx for i in range(-(nx - 1) // 2, nx // 2 + 1)]\n",
    "beta_tmp = 2.0 ** (-5)                   # initial value of beta (power of 2)\n",
    "beta     = 2.0 ** 1                     # actual value of beta (power of 2)\n",
    "\n",
    "cubic = -1.0\n",
    "quartic = 1.0\n",
    "\n",
    "rho = rho_anharmonic_trotter(x, beta_tmp)  # density matrix at initial beta\n",
    "while beta_tmp < beta:\n",
    "    rho = numpy.dot(rho, rho)\n",
    "    rho *= dx\n",
    "    beta_tmp *= 2.0\n",
    "    #print ('beta: %s -> %s' % (beta_tmp / 2.0, beta_tmp))\n",
    "    Z = sum(rho[j, j] for j in range(nx + 1)) * dx\n",
    "    pi_of_x = [rho[j, j] / Z for j in range(nx + 1)]\n",
    "    f = open('data_anharm_matrixsquaring_beta1' + str(beta) + '.dat', 'w')\n",
    "    for j in range(nx + 1):\n",
    "        f.write(str(x[j]) + ' ' + str(rho[j, j] / Z) + '\\n')\n",
    "    f.close()\n",
    "    \n",
    "Z = sum(rho[j, j] for j in range(nx + 1)) * dx"
   ]
  },
  {
   "cell_type": "code",
   "execution_count": null,
   "metadata": {},
   "outputs": [],
   "source": []
  }
 ],
 "metadata": {
  "kernelspec": {
   "display_name": "Python 3",
   "language": "python",
   "name": "python3"
  },
  "language_info": {
   "codemirror_mode": {
    "name": "ipython",
    "version": 3
   },
   "file_extension": ".py",
   "mimetype": "text/x-python",
   "name": "python",
   "nbconvert_exporter": "python",
   "pygments_lexer": "ipython3",
   "version": "3.8.5"
  }
 },
 "nbformat": 4,
 "nbformat_minor": 4
}
