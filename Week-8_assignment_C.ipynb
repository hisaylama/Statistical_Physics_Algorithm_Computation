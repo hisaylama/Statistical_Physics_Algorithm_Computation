{
 "cells": [
  {
   "cell_type": "markdown",
   "metadata": {},
   "source": [
    "**C**\n",
    "\n",
    "Here, you run the heatbath algorithm.\n",
    "\n",
    "**C1.**\n",
    "\n",
    "Download  (cut-and-paste) the heatbath algorithm for the Ising model shown  below.  Familiarize yourself with how it works before going on. "
   ]
  },
  {
   "cell_type": "code",
   "execution_count": 1,
   "metadata": {},
   "outputs": [
    {
     "name": "stdout",
     "output_type": "stream",
     "text": [
      "Mean energy per spin: -1.7434162345679012\n"
     ]
    }
   ],
   "source": [
    "import random, math\n",
    "\n",
    "L = 6\n",
    "N = L * L\n",
    "nbr = {i : ((i // L) * L + (i + 1) % L, (i + L) % N,\n",
    "            (i // L) * L + (i - 1) % L, (i - L) % N) \\\n",
    "                                    for i in range(N)}\n",
    "nsteps = 100000* N\n",
    "T = 2.0\n",
    "beta = 1.0 / T\n",
    "S = [random.choice([-1, 1]) for site in range(N)]\n",
    "E = -0.5 * sum(S[k] * sum(S[nn] for nn in nbr[k]) \\\n",
    "                                for k in range(N))\n",
    "Energies = []\n",
    "for step in range(nsteps):\n",
    "    k = random.randint(0, N - 1)\n",
    "    Upsilon = random.uniform(0.0, 1.0)\n",
    "    h = sum(S[nn] for nn in nbr[k])\n",
    "    Sk_old = S[k]\n",
    "    S[k] = -1\n",
    "    if Upsilon < 1.0 / (1.0 + math.exp(-2.0 * beta * h)):\n",
    "        S[k] = 1\n",
    "    if S[k] != Sk_old:\n",
    "        E -= 2.0 * h * S[k]\n",
    "    Energies.append(E)\n",
    "print('Mean energy per spin:', sum(Energies) / float(len(Energies) * N))"
   ]
  },
  {
   "cell_type": "markdown",
   "metadata": {},
   "source": [
    "- Greatly increase the number of iterations of the algorithm.  Run  it for L=6 and T = 2.0. Check that you recover the exact value for the  mean energy E/N=-1.7473.. (known from exact enumeration).\n",
    "\n",
    "- Communicate the results obtained in four independent runs of the algorithm. Indicate your value of nsteps. \n",
    "\n",
    "At N = 36e5, the value of mean energy per spin: -1.743753148148148"
   ]
  },
  {
   "cell_type": "markdown",
   "metadata": {},
   "source": [
    "**C2.**\n",
    "\n",
    "Modify the heatbath algorithm so that it does TWO computations  in parallel, as discussed in Tutorial 8: one starting from the all plus  spin configuration, and one from the all minus configuration. The  algorithm should stop when the two configurations couple, that is, when  the number of sites where they differ becomes equal to zero.\n",
    "\n",
    "**For simplicity, we provide this program**, you are free to download (cut-and-paste), run and modify it, but familiarize yourself thoroughly with it.\n",
    "Now, modify this program by implementing a function which plots the two configurations  side by side, so that you can observe how they evolve towards the  coupling. The snippet for plotting the two configuration is given below"
   ]
  },
  {
   "cell_type": "code",
   "execution_count": 15,
   "metadata": {},
   "outputs": [
    {
     "name": "stdout",
     "output_type": "stream",
     "text": [
      "coupling time: 125.0\n"
     ]
    },
    {
     "data": {
      "image/png": "[encoded data removed]",
      "text/plain": [
       "<Figure size 432x288 with 2 Axes>"
      ]
     },
     "metadata": {
      "needs_background": "light"
     },
     "output_type": "display_data"
    }
   ],
   "source": [
    "import random, math, pylab\n",
    "\n",
    "def show_spins(S0, S1, L, label):\n",
    "    pylab.set_cmap('hot')\n",
    "    conf0 = [[0 for x in range(L)] for y in range(L)]\n",
    "    conf1 = [[0 for x in range(L)] for y in range(L)]\n",
    "    for k in range(N):\n",
    "        y = k // L\n",
    "        x = k - y * L\n",
    "        conf0[x][y] = S0[k]\n",
    "        conf1[x][y] = S1[k]\n",
    "    pylab.subplot(1, 2, 1)\n",
    "    pylab.imshow(conf0, extent=[0, L, 0, L], interpolation='nearest')\n",
    "    pylab.title('S0 ' + label)\n",
    "    pylab.subplot(1, 2, 2)\n",
    "    pylab.imshow(conf1, extent=[0, L, 0, L], interpolation='nearest')\n",
    "    pylab.title('S1 ' + label)\n",
    "    pylab.tight_layout()\n",
    "    pylab.savefig('plot_' + label + '.png')\n",
    "    #pylab.close()\n",
    "    pylab.show()\n",
    "\n",
    "L = 32\n",
    "N =  L * L\n",
    "nbr = {i : ((i // L) * L + (i + 1) % L, (i + L) % N,\n",
    "            (i // L) * L + (i - 1) % L, (i - L) % N) \\\n",
    "                                    for i in range(N)}\n",
    "T = 3.0\n",
    "beta = 1.0 / T\n",
    "nsteps = N\n",
    "S0 = [1] * N\n",
    "S1 = [-1] * N\n",
    "step = 0\n",
    "steps = 0\n",
    "while True:\n",
    "    step += 1\n",
    "    k = random.randint(0, N - 1)\n",
    "    Upsilon = random.uniform(0.0, 1.0)\n",
    "    h = sum(S0[nn] for nn in nbr[k])\n",
    "    S0[k] = -1\n",
    "    if Upsilon < 1.0 / (1.0 + math.exp(-2.0 * beta * h)):\n",
    "        S0[k] = 1\n",
    "    h = sum(S1[nn] for nn in nbr[k])\n",
    "    S1[k] = -1\n",
    "    if Upsilon < 1.0 / (1.0 + math.exp(-2.0 * beta * h)):\n",
    "        S1[k] = 1\n",
    "        #show_spins(S0, S1, L, '(32e4)')\n",
    "    if step % N == 0:\n",
    "        if steps % nsteps == 0:\n",
    "            n_diff = sum(abs(S0[i] - S1[i]) for i in range(N))\n",
    "            if n_diff == 0:\n",
    "                t_coup = step / N\n",
    "                print('coupling time:', t_coup) \n",
    "                break\n",
    "show_spins(S0, S1, L, '(32e4)')"
   ]
  },
  {
   "cell_type": "markdown",
   "metadata": {},
   "source": [
    "- **Implement this function in the program:** after the check of whether coupling took place (already in the program), you should call the show_spins(..) function, but only once every 10 sweeps (hint: use a condition like \"if nsteps % XXX == 0\", with the appropriate choice of XXX). Note that the input \"label\" should be a string which encodes at least the sweep number (and possibly also other informations, as the values of L and T).\n",
    "\n",
    "- Run your program for L=32, at T=3.0. **Upload the first figure** you obtain (which is just after the few initial sweep)\n",
    "\n",
    "\n",
    "**C2 (continued)**\n",
    "\n",
    "- Upload the last figure (which is the last one obtained, before coupling takes place and the program ends).\n",
    "\n",
    "\n",
    "**C2 (continued)**\n",
    "\n",
    "- **Comment** on  these two figures, and the other intermediate figures (which you do not  need to upload). Can one notice that the two configurations evolve  towards coupling?"
   ]
  }
 ],
 "metadata": {
  "kernelspec": {
   "display_name": "Python 3",
   "language": "python",
   "name": "python3"
  },
  "language_info": {
   "codemirror_mode": {
    "name": "ipython",
    "version": 3
   },
   "file_extension": ".py",
   "mimetype": "text/x-python",
   "name": "python",
   "nbconvert_exporter": "python",
   "pygments_lexer": "ipython3",
   "version": "3.8.5"
  }
 },
 "nbformat": 4,
 "nbformat_minor": 4
}
