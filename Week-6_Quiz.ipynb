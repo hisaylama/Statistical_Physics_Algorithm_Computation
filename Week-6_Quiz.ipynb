{
 "cells": [
  {
   "cell_type": "markdown",
   "metadata": {},
   "source": [
    "#### Practice Quiz 6: Path integrals\n",
    "\n",
    "Q1. Starting from the convolution property, we found an expression for the Path integral in terms of the free density matrix $\\rho_{free}$ and the external potential. We considered a discretized version of the imaginary time axis:\n",
    "$\\tau = 0$, $\\delta_\\tau$, $2\\delta_\\tau$,..(where $\\delta_\\tau N = \\beta$) \n",
    "\n",
    "\n",
    "Considering the path-integral Monte-Carlo simulation of a single particle,\n",
    "which of the following answers is correct?\n",
    "\n",
    "Answer:<br>\n",
    "- For a particle in an external potential, the finite discretization $\\delta_\\tau$ introduces a  systematic error, that is not related to the statistical error due to Monte Carlo Simulation\n",
    "\n",
    "- For the free particle (i.e., with no external potential), any choice of $\\delta_\\tau$ is valid and the simulation results are exact(upto the statistical error bars)."
   ]
  }
 ],
 "metadata": {
  "kernelspec": {
   "display_name": "Python 3",
   "language": "python",
   "name": "python3"
  },
  "language_info": {
   "codemirror_mode": {
    "name": "ipython",
    "version": 3
   },
   "file_extension": ".py",
   "mimetype": "text/x-python",
   "name": "python",
   "nbconvert_exporter": "python",
   "pygments_lexer": "ipython3",
   "version": "3.8.5"
  }
 },
 "nbformat": 4,
 "nbformat_minor": 4
}
