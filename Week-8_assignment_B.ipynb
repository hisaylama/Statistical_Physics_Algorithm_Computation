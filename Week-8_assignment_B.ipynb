{
 "cells": [
  {
   "cell_type": "markdown",
   "metadata": {},
   "source": [
    "**B**\n",
    "\n",
    "In this section, you run the Wolff cluster algorithm, one of the great algorithms of statistical physics.\n",
    "\n",
    "**B1**\n",
    "\n",
    "- Download (cut-and-paste) the Wolff cluster Monte Carlo algorithm for  the Ising model shown below. Familiarize yourself with how it works  before going on. "
   ]
  },
  {
   "cell_type": "code",
   "execution_count": 1,
   "metadata": {},
   "outputs": [
    {
     "name": "stdout",
     "output_type": "stream",
     "text": [
      "mean energy per spin: -1.7361527361527362\n"
     ]
    }
   ],
   "source": [
    "import random, math\n",
    "\n",
    "def energy(S, N, nbr):\n",
    "    E = 0.0\n",
    "    for k in range(N):\n",
    "        E -=  S[k] * sum(S[nn] for nn in nbr[k])\n",
    "    return 0.5 * E\n",
    "\n",
    "L = 6\n",
    "N = L * L\n",
    "nbr = {i : ((i // L) * L + (i + 1) % L, (i + L) % N,\n",
    "            (i // L) * L + (i - 1) % L, (i - L) % N)\n",
    "                                    for i in range(N)}\n",
    "\n",
    "T = 2.0\n",
    "p  = 1.0 - math.exp(-2.0 / T)\n",
    "nsteps = 1000\n",
    "S = [random.choice([1, -1]) for k in range(N)]\n",
    "E = [energy(S, N, nbr)]\n",
    "for step in range(nsteps):\n",
    "    k = random.randint(0, N - 1)\n",
    "    Pocket, Cluster = [k], [k]\n",
    "    while Pocket != []:\n",
    "        j = random.choice(Pocket)\n",
    "        for l in nbr[j]:\n",
    "            if S[l] == S[j] and l not in Cluster \\\n",
    "                   and random.uniform(0.0, 1.0) < p:\n",
    "                Pocket.append(l)\n",
    "                Cluster.append(l)\n",
    "        Pocket.remove(j)\n",
    "    for j in Cluster:\n",
    "        S[j] *= -1\n",
    "    E.append(energy(S, N, nbr))\n",
    "print('mean energy per spin:', sum(E) / float(len(E) * N))"
   ]
  },
  {
   "cell_type": "markdown",
   "metadata": {},
   "source": [
    "**Question: Explain in a few words** what the **Pocket** stands for. \n",
    "\n",
    "\n",
    "**Answer**: The **Pocket** stands for list of pocket sites that contains the new members of cluster sites and that allows cluster to grow. \n",
    "\n",
    "- Then, **modify the program** such that instead of picking a random element j from the pocket, it picks always the last element (use **j=Pocket.pop()**, and remove the Pocket.remove(j) line). Check that this modified version yields the **same results**, and **explain** the reason."
   ]
  },
  {
   "cell_type": "code",
   "execution_count": 10,
   "metadata": {},
   "outputs": [
    {
     "name": "stdout",
     "output_type": "stream",
     "text": [
      "mean energy per spin: -0.45281213854528124\n"
     ]
    }
   ],
   "source": [
    "import random, math\n",
    "\n",
    "def energy(S, N, nbr):\n",
    "    E = 0.0\n",
    "    for k in range(N):\n",
    "        E -=  S[k] * sum(S[nn] for nn in nbr[k])\n",
    "    return 0.5 * E\n",
    "\n",
    "L = 6\n",
    "N = L * L\n",
    "nbr = {i : ((i // L) * L + (i + 1) % L, (i + L) % N,\n",
    "            (i // L) * L + (i - 1) % L, (i - L) % N)\n",
    "                                    for i in range(N)}\n",
    "\n",
    "T = 2.0\n",
    "p  = 1.0 - math.exp(-2.0 / T)\n",
    "nsteps = 100000\n",
    "S = [random.choice([1, -1]) for k in range(N)] #sigma\n",
    "E = [energy(S, N, nbr)]\n",
    "for step in range(nsteps):\n",
    "    k = random.randint(0, N - 1)\n",
    "    Pocket, Cluster = [k], [k]\n",
    "    while Pocket != []:\n",
    "        j = random.choice(Pocket)\n",
    "        for l in nbr[j]:\n",
    "            if S[l] == S[j] and l not in Cluster \\\n",
    "                   and random.uniform(0.0, 1.0) < p:\n",
    "                Pocket.append(l)\n",
    "                Cluster.append(l)\n",
    "        j=Pocket.pop()\n",
    "    for j in Cluster:\n",
    "        S[j] *= -1\n",
    "    E.append(energy(S, N, nbr))\n",
    "print('mean energy per spin:', sum(E) / float(len(E) * N))"
   ]
  },
  {
   "cell_type": "markdown",
   "metadata": {},
   "source": [
    "- The two codes does not yield the same result.\n",
    "\n",
    "**B1 (continued)**\n",
    "\n",
    "- Greatly increase the number of iterations of the algorithm.  Run it for **L=6 and T = 2.0**. Check that you recover the exact value for the mean energy E/N= -1.7473.. (known from exact enumeration). **Communicate the results obtained** in four independent runs of the algorithms. Do not forget to **indicate your value of nsteps**."
   ]
  },
  {
   "cell_type": "code",
   "execution_count": 11,
   "metadata": {},
   "outputs": [
    {
     "name": "stdout",
     "output_type": "stream",
     "text": [
      "mean energy per spin: -1.7445381101744537\n"
     ]
    }
   ],
   "source": [
    "import random, math\n",
    "\n",
    "def energy(S, N, nbr):\n",
    "    E = 0.0\n",
    "    for k in range(N):\n",
    "        E -=  S[k] * sum(S[nn] for nn in nbr[k])\n",
    "    return 0.5 * E\n",
    "\n",
    "L = 6\n",
    "N = L * L\n",
    "nbr = {i : ((i // L) * L + (i + 1) % L, (i + L) % N,\n",
    "            (i // L) * L + (i - 1) % L, (i - L) % N)\n",
    "                                    for i in range(N)}\n",
    "\n",
    "T = 2.0\n",
    "p  = 1.0 - math.exp(-2.0 / T)\n",
    "nsteps = 100000\n",
    "S = [random.choice([1, -1]) for k in range(N)]\n",
    "E = [energy(S, N, nbr)]\n",
    "for step in range(nsteps):\n",
    "    k = random.randint(0, N - 1)\n",
    "    Pocket, Cluster = [k], [k]\n",
    "    while Pocket != []:\n",
    "        j = random.choice(Pocket)\n",
    "        for l in nbr[j]:\n",
    "            if S[l] == S[j] and l not in Cluster \\\n",
    "                   and random.uniform(0.0, 1.0) < p:\n",
    "                Pocket.append(l)\n",
    "                Cluster.append(l)\n",
    "        Pocket.remove(j)\n",
    "    for j in Cluster:\n",
    "        S[j] *= -1\n",
    "    E.append(energy(S, N, nbr))\n",
    "print('mean energy per spin:', sum(E) / float(len(E) * N))"
   ]
  },
  {
   "cell_type": "markdown",
   "metadata": {},
   "source": [
    "- At nsteps = 100000, we gets the exact value"
   ]
  },
  {
   "cell_type": "markdown",
   "metadata": {},
   "source": [
    "**B2**\n",
    "\n",
    "As discussed in lecture 8, the **Ising model was solved exactly by Onsager**, in 1944, for the infinite lattice. The exact solution for the finite lattice was obtained by **Kaufman in 1949**. Based on her magnificent paper, **Ferdinand and Fisher, in 1969**,  computed the specific heat for finite lattices with periodic boundary  conditions, exactly the system that we consider, and the result is shown  here:\n",
    "\n",
    "- Incorporate into the cluster algorithm (from Section B1) the read-in/write-out part of section A2,  which allows you to do a 'warm start' (that is, discard some initial  data). Run this modified cluster algorithm at T=2.27, for lattices of  size L=2, 4, 8, 16, 32 and check Ferdinand and Fisher's  analytical  results. To do so, implement a few lines analogous to:"
   ]
  },
  {
   "cell_type": "code",
   "execution_count": 188,
   "metadata": {},
   "outputs": [
    {
     "name": "stdout",
     "output_type": "stream",
     "text": [
      "L = 2 ; Mean energy =  -6.761238761238761 & Specific heat = 0.40635178750958834\n",
      "L = 4 ; Mean energy =  -25.23076923076923 & Specific heat = 0.7497462403363049\n",
      "L = 8 ; Mean energy =  -94.80119880119881 & Specific heat = 1.2620115775707634\n",
      "L = 16 ; Mean energy =  -360.57142857142856 & Specific heat = 2.7242907327076367\n",
      "L = 32 ; Mean energy =  -1398.973026973027 & Specific heat = 13.991201920468821\n"
     ]
    }
   ],
   "source": [
    "import random, math\n",
    "\n",
    "def energy(S, N, nbr):\n",
    "    E = 0.0\n",
    "    for k in range(N):\n",
    "        E -=  S[k] * sum(S[nn] for nn in nbr[k])\n",
    "    return 0.5 * E\n",
    "\n",
    "list_L = [2, 4, 8, 16, 32]\n",
    " #\n",
    "for L in list_L:\n",
    "    N = L * L\n",
    "    nbr = {i : ((i // L) * L + (i + 1) % L, (i + L) % N,\n",
    "            (i // L) * L + (i - 1) % L, (i - L) % N)\n",
    "                                    for i in range(N)}\n",
    "    T = 2.27\n",
    "    p  = 1.0 - math.exp(-2.0 / T)\n",
    "    nsteps = 1000\n",
    "    S = [random.choice([1, -1]) for k in range(N)]\n",
    "    E = [energy(S, N, nbr)]\n",
    "    \n",
    "    for step in range(nsteps):\n",
    "        k = random.randint(0, N - 1)\n",
    "        Pocket, Cluster = [k], [k]\n",
    "        while Pocket != []:\n",
    "            j = random.choice(Pocket)\n",
    "            for l in nbr[j]:\n",
    "                if S[l] == S[j] and l not in Cluster \\\n",
    "                      and random.uniform(0.0, 1.0) < p:\n",
    "                    Pocket.append(l)\n",
    "                    Cluster.append(l)\n",
    "            Pocket.remove(j)\n",
    "        for j in Cluster:\n",
    "            S[j] *= -1\n",
    "        E.append(energy(S, N, nbr))\n",
    "    E_mean = sum(E) / len(E)\n",
    "    E2_mean = sum(a ** 2 for a in E) / len(E)\n",
    "    cv = (E2_mean - E_mean ** 2 ) / N / T ** 2\n",
    "    print('L =', L,';', 'Mean energy = ', E_mean, '&', 'Specific heat =', cv)"
   ]
  },
  {
   "cell_type": "markdown",
   "metadata": {},
   "source": [
    "**(Remember the definition** of the specific heat from lecture 8).\n",
    "\n",
    "- **Communicate your results** (without error bars, just quote the results of one or two runs, after a warm start, for each value of the parameters) at the critical temperature T = 2.27. \n",
    "\n",
    "L = 2 ; Mean energy =  -6.761238761238761 & Specific heat = 0.40635178750958834 <br>\n",
    "L = 4 ; Mean energy =  -25.23076923076923 & Specific heat = 0.7497462403363049 <br>\n",
    "L = 8 ; Mean energy =  -94.80119880119881 & Specific heat = 1.2620115775707634 <br>\n",
    "L = 16 ; Mean energy =  -360.57142857142856 & Specific heat = 2.7242907327076367 <br>\n",
    "L = 32 ; Mean energy =  -1398.973026973027 & Specific heat = 13.991201920468821 <br>\n",
    "\n",
    "- **Can you confirm that**, as indicated in the conclusion of lecture 8, observables as the specific heat for the Ising model in the transition region strongly depend on lattice size? \n",
    "\n",
    "The magnitude of specific heat does depend on the lattice size, it increases with lattice size, as Cv  $\\propto$ N (number of lattice sites).\n",
    "\n"
   ]
  },
  {
   "cell_type": "code",
   "execution_count": 195,
   "metadata": {},
   "outputs": [
    {
     "data": {
      "text/plain": [
       "Text(0, 0.5, 'Cv')"
      ]
     },
     "execution_count": 195,
     "metadata": {},
     "output_type": "execute_result"
    },
    {
     "data": {
      "image/png": "[encoded data removed]",
      "text/plain": [
       "<Figure size 432x288 with 1 Axes>"
      ]
     },
     "metadata": {
      "needs_background": "light"
     },
     "output_type": "display_data"
    }
   ],
   "source": [
    "import matplotlib.pyplot as plt\n",
    "L = [2, 4, 8, 16, 32]\n",
    "Cv = [0.406, 0.749, 1.262, 2.724, 13.991]\n",
    "plt.plot(L, Cv, '-o', color='red')\n",
    "plt.xlabel('L')\n",
    "plt.ylabel('Cv')"
   ]
  }
 ],
 "metadata": {
  "kernelspec": {
   "display_name": "Python 3",
   "language": "python",
   "name": "python3"
  },
  "language_info": {
   "codemirror_mode": {
    "name": "ipython",
    "version": 3
   },
   "file_extension": ".py",
   "mimetype": "text/x-python",
   "name": "python",
   "nbconvert_exporter": "python",
   "pygments_lexer": "ipython3",
   "version": "3.8.5"
  }
 },
 "nbformat": 4,
 "nbformat_minor": 4
}
