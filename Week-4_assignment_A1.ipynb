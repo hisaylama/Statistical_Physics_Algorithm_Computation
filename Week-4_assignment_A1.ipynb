{
 "cells": [
  {
   "cell_type": "markdown",
   "metadata": {},
   "source": [
    "#### A2. Markov-chain Monte carlo program for d = 3\n",
    "\n",
    "This program computes the quantiy $Q(d=3) = 2*\\frac{Volume_{sph}(3d)}{Volume_{cyl}(3d)}$. \n",
    "\n",
    "where, \n",
    "$Volume_{sph}(3d)$ = Volume of unit sphere in 3d;\n",
    "\n",
    "$Volume_{cyl}(3d)$ = Volume of unit cylinder in 3d\n",
    "\n",
    "Volume of unit sphere in 3d, $Volume_{sph}(3d)$ = 4/3*$\\pi$*$1^2$ = 4/3$\\pi$\n",
    "\n",
    "Volume of unit cylinder in 3d, $Volume_{cyl}(3d)$ = $\\pi 1^2$(2) =  2$\\pi$\n",
    "\n",
    "$\\therefore Q(d=3) = 4/3$\n"
   ]
  },
  {
   "cell_type": "code",
   "execution_count": 36,
   "metadata": {},
   "outputs": [
    {
     "name": "stdout",
     "output_type": "stream",
     "text": [
      "1.3365\n"
     ]
    }
   ],
   "source": [
    "#Here is the code:\n",
    "import random\n",
    "\n",
    "x, y, z = 0.0, 0.0, 0.0\n",
    "delta = 1\n",
    "n_trials = 4000\n",
    "n_hits = 0\n",
    "\n",
    "for i in range(n_trials):\n",
    "    del_x, del_y, del_z = random.uniform(-delta, delta), random.uniform(-delta, delta), random.uniform(-1.0, 1.0)\n",
    "    if abs((x + del_x)**2 + (y + del_y)**2) < 1.0 and abs(z+del_z) < 1.0:\n",
    "        x, y, z = x + del_x, y + del_y, z + del_z\n",
    "    \n",
    "    if x**2 + y**2 + z**2 < 1.0: n_hits += 1\n",
    "\n",
    "print (2*n_hits / float(n_trials))"
   ]
  },
  {
   "cell_type": "markdown",
   "metadata": {},
   "source": [
    "Direct estimation: Q(d=3) = 1.33 \n",
    "\n",
    "Numerical estimation: Q(d=3) = (1.3485 + 1.239 + 1.4125 + 1.3385 + 1.368 + 1.1865)/6 = 1.32 (approx) ; \n",
    "\n",
    "The values estimated directly and numerically are a close match. "
   ]
  },
  {
   "cell_type": "markdown",
   "metadata": {},
   "source": [
    "#### A3. Markov chain Monte carlo for d=4"
   ]
  },
  {
   "cell_type": "code",
   "execution_count": 38,
   "metadata": {},
   "outputs": [
    {
     "name": "stdout",
     "output_type": "stream",
     "text": [
      "1.2515\n"
     ]
    }
   ],
   "source": [
    "#Here is the code:\n",
    "import random\n",
    "\n",
    "x, y, z, alpha = 0.0, 0.0, 0.0, 0.0\n",
    "delta = 0.1\n",
    "n_trials = 4000\n",
    "n_hits = 0\n",
    "\n",
    "for i in range(n_trials):\n",
    "    del_x, del_y, del_z, del_alpha = random.uniform(-delta, delta), random.uniform(-delta, delta), random.uniform(-delta, delta), random.uniform(-1.0, 1.0)\n",
    "    if abs((x + del_x)**2 + (y + del_y)**2 + (z+del_z)**2) < 1.0 and abs(alpha+del_alpha) < 1.0:\n",
    "        x, y, z, alpha = x + del_x, y + del_y, z + del_z, alpha + del_alpha\n",
    "    \n",
    "    if x**2 + y**2 + z**2 + alpha**2 < 1.0: n_hits += 1\n",
    "\n",
    "print (2*n_hits / float(n_trials))"
   ]
  },
  {
   "cell_type": "markdown",
   "metadata": {},
   "source": [
    "Direct estimation: Q(d=4) = 0.59\n",
    "\n",
    "Numerical estimation: Q(d=4) = (0.57675 + 0.60325 + 0.60525 + 0.595 + 0.575+ 0.60325)/6 = 0.59(approx) ;\n",
    "\n",
    "The values estimated directly and numerically are a close match.\n",
    "\n",
    "#### Estimation of V_sph(d=4)\n",
    "\n",
    "- V_sph(d=4) = pi^2 /2 = 4.93\n",
    "- V_sph(d=4) = V_sph(3) * Q4 $\\approx$ V_sph(3) * $<Q4>$ = 4.94\n",
    "- V_sph(d=4) = V_sph(2) * Q3 * Q4 $\\approx$ V_sph(2) * $<Q3>$ * $<Q4>$ = pi x 0.59 x 1.33 = 4.93\n",
    "\n"
   ]
  },
  {
   "cell_type": "code",
   "execution_count": null,
   "metadata": {},
   "outputs": [],
   "source": []
  }
 ],
 "metadata": {
  "kernelspec": {
   "display_name": "Python 3",
   "language": "python",
   "name": "python3"
  },
  "language_info": {
   "codemirror_mode": {
    "name": "ipython",
    "version": 3
   },
   "file_extension": ".py",
   "mimetype": "text/x-python",
   "name": "python",
   "nbconvert_exporter": "python",
   "pygments_lexer": "ipython3",
   "version": "3.8.5"
  }
 },
 "nbformat": 4,
 "nbformat_minor": 4
}
