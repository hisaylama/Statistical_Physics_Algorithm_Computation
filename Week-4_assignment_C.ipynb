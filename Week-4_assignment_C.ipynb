{
 "cells": [
  {
   "cell_type": "markdown",
   "metadata": {},
   "source": [
    "#### C2. Error estimation"
   ]
  },
  {
   "cell_type": "code",
   "execution_count": 85,
   "metadata": {},
   "outputs": [
    {
     "name": "stdout",
     "output_type": "stream",
     "text": [
      "['n_trials', '<V_sph(20)>', '<V_sph(20)^2>', 'Errror']\n",
      "----------------------------------------------------\n",
      "[0, 0.5128376113309738, 0.3347303471217479, 0.022682363547503817]\n",
      "[9, 0.5426754359902306, 0.3602046306819224, 0.020778694635953256]\n",
      "[99, 0.48654302835000396, 0.29276936227407374, 0.0177230622547853]\n",
      "[999, 0.44311267591042497, 0.2481194907939967, 0.016371316122425122]\n",
      "[9999, 0.4160709351513468, 0.22101230437259814, 0.015146450262160584]\n",
      "[99999, 0.3980571410805381, 0.20297582368463282, 0.014080463799959475]\n",
      "[999999, 0.38517452974342126, 0.19007622601586466, 0.01319201288939874]\n",
      "[999999, 0.4337680077066377, 0.2434241606799449, 0.017477742978210305]\n"
     ]
    }
   ],
   "source": [
    "# Caluclation of Q for d = 4\n",
    "import random, math\n",
    "import numpy as np\n",
    "\n",
    "\n",
    "def V_sph(dim):\n",
    "    return math.pi ** (dim / 2.0) / math.gamma(dim / 2.0 + 1.0)\n",
    "\n",
    "#initialization of the quantity\n",
    "d = 20\n",
    "old_radius_square = 0.0\n",
    "x = [0]*d \n",
    "delta =0.1\n",
    "n_hits = 0\n",
    "V_final = []\n",
    "V_sq_final = []\n",
    "\n",
    "n_trial = [1, 10, 100, 1000, 10000, 100000, 1000000, 1000000]\n",
    "print(['n_trials', '<V_sph(20)>', '<V_sph(20)^2>', 'Errror'])\n",
    "print(\"----------------------------------------------------\")\n",
    "for i in range(len(n_trial)):\n",
    "    n_trials = n_trial[i] \n",
    "    for m in range (10):\n",
    "        for n in range(n_trials):\n",
    "            k = random.randint(0, d - 1)\n",
    "            x_old_k = x[k]\n",
    "            x_new_k = x_old_k + random.uniform(-delta, delta)\n",
    "            new_radius_square = old_radius_square + x_new_k ** 2 - x_old_k ** 2\n",
    "    \n",
    "            if abs(new_radius_square) < 1.0 and abs((x_new_k)**2) < 1.0:\n",
    "                x[k] = x_new_k  #update the old x[k]\n",
    "                old_radius_square = new_radius_square #update the old_radius \n",
    "                delta_R = random.uniform(-1.0, 1.0)\n",
    "                if (old_radius_square + delta_R)**2 <1.0: n_hits +=1\n",
    "        V1 = V_sph(19)*(2*n_hits/float(n_trials))\n",
    "        V_final.append(V1)\n",
    "        V_sq_final.append(V1**2)\n",
    "    V1_final_mean = np.mean(V_final)\n",
    "    V1_square_mean = np.mean(V_sq_final)\n",
    "    Error = (V1_square_mean - V1_final_mean**2)/math.sqrt(10)\n",
    "    #print(\"List of estimated variables:\")\n",
    "    print([n,  V1_final_mean, V1_square_mean, Error])"
   ]
  },
  {
   "cell_type": "code",
   "execution_count": null,
   "metadata": {},
   "outputs": [],
   "source": []
  }
 ],
 "metadata": {
  "kernelspec": {
   "display_name": "Python 3",
   "language": "python",
   "name": "python3"
  },
  "language_info": {
   "codemirror_mode": {
    "name": "ipython",
    "version": 3
   },
   "file_extension": ".py",
   "mimetype": "text/x-python",
   "name": "python",
   "nbconvert_exporter": "python",
   "pygments_lexer": "ipython3",
   "version": "3.8.5"
  }
 },
 "nbformat": 4,
 "nbformat_minor": 4
}
