{
 "cells": [
  {
   "cell_type": "markdown",
   "metadata": {},
   "source": [
    "### Assignment for Week-6: Path Sampling, A firework of algorithm\n",
    "\n",
    "**C**\n",
    "\n",
    "In this section, we are concerned with the anharmonic oscillator. You will come up with vastly better algorithms than in Homework Session 5. You will need the potential function from last week.\n",
    "\n",
    "def V(x, cubic, quartic): <br>\n",
    "    pot = x ** 2 / 2.0 + cubic * x ** 3 + quartic * x ** 4<br>\n",
    "    return pot<br>\n",
    "\n",
    "You first construct, in **Section C1**, paths in the anharmonic oscillator from the free Lévy construction + a correction that will be accepted/rejected with the Metropolis algorithm. Then, in **Section C2**, you will again construct paths from the harmonic Lévy construction + another correction, again accepted or rejected with the Metropolis algorithm. You will convince yourself that the outcome is the same.\n",
    "\n",
    "\n",
    "**C1**\n",
    "\n",
    "In order to write a path-sampling algorithm from the free Lévy construction, add the function levy_free_path to the algorithm of **section B2**. For your convenience, it is given below.Attention:\n",
    "\n",
    "- use this function and not the one from Lecture 5 (It outputs a path of length N and not of length N+1).\n",
    "\n",
    "- keep levy_harmonic_path in the program, as you will use it in **Section C2**.\n",
    "\n",
    "\n",
    "The difference between the statistical weight of the path and the weight used for the free Lévy construction is equal to exp(- \\sum delta_tau \\sum_i V(i)) or, in other words:\n",
    "\n",
    "Trotter_weight = math.exp(sum(-V(a, cubic, quartic) * dtau for a in x))\n",
    "\n",
    "(compare with **Section B, it is important to realize that the rho_free part of the free density matrix** is no longer in the Metropolis step).\n",
    "\n",
    "Therefore, you should **replace the harmonic Levy construction** of section **B2** by the **free Levy construction**, but new paths should be accepted with the Metropolis algorithm.\n",
    "\n",
    "To prepare the **program of this section**, you should\n",
    "\n",
    "- **Incorporate a function V(x, cubic, quartic)**, as indicated in the beginning of this section.\n",
    "\n",
    "- **Construct a new path (x_new) between x[0] and x[0]**, from Levy_free_path.\n",
    "\n",
    "- **Compute** its Trotter weight, the part of the statistical weight not yet taken into account by the path construction, using the above snippet. Again: rho_free is no longer part of the correction which is used to accept or reject the move. Note that at cubic=quartic=0, there is no correction.\n",
    "\n",
    "- **Accept**  the new path with probability min(1, Weight_new/ Weight_old) and **Update** the Weight_old (if move accepted).\n",
    "\n",
    "- **Update** the path (if move accepted). To do so, use **x = x_new[:]**, rather than  **x = x_new**.\n",
    "\n",
    "- Wrap the path, as in section **B2**. For instance you can use: **x = x[1:] + x[:1]**.\n",
    "\n",
    "- Check your program for cubic = quartic = 0, for small beta. \n",
    "\n",
    "At beta=20, the acceptance rate will have become very small. So, rather than reconstructing an entire new path, you should only reconstruct it between 0 and Ncut. This can be done as in the following line\n",
    "\n",
    "x_new = levy_free_path(x[0], x[Ncut], dtau, Ncut) + x[Ncut:]\n",
    "\n",
    "where Ncut is chosen suitably (you might want to check the acceptance rate).Therefore, construct a new path between 0 and Ncut, and use the old path from Ncut through N - 1.\n",
    "\n",
    "Once your program is ready:\n",
    "\n",
    "- **Upload the program**"
   ]
  },
  {
   "cell_type": "code",
   "execution_count": 39,
   "metadata": {},
   "outputs": [
    {
     "data": {
      "text/plain": [
       "(-2.0, 2.0)"
      ]
     },
     "execution_count": 39,
     "metadata": {},
     "output_type": "execute_result"
    },
    {
     "data": {
      "image/png": "[encoded data removed]",
      "text/plain": [
       "<Figure size 432x288 with 1 Axes>"
      ]
     },
     "metadata": {
      "needs_background": "light"
     },
     "output_type": "display_data"
    }
   ],
   "source": [
    "import math, random, numpy, pylab\n",
    "#anharmonic potential\n",
    "def V(x, cubic, quartic): \n",
    "    pot = x ** 2 / 2.0 + cubic * x ** 3 + quartic * x ** 4\n",
    "    return pot\n",
    "\n",
    "#levy free path\n",
    "def levy_free_path(xstart, xend, dtau, N):\n",
    "    x = [xstart]\n",
    "    for k in range(1, N):\n",
    "        dtau_prime = (N - k) * dtau\n",
    "        x_mean = (dtau_prime * x[k - 1] + dtau * xend) / \\\n",
    "                 (dtau + dtau_prime)\n",
    "        sigma = math.sqrt(1.0 / (1.0 / dtau + 1.0 / dtau_prime))\n",
    "        x.append(random.gauss(x_mean, sigma))\n",
    "    return x\n",
    "\n",
    "#levy harmonic path\n",
    "def levy_harmonic_path(xstart, xend, dtau, N):\n",
    "    x = [xstart]\n",
    "    for k in range(1, N):\n",
    "        dtau_prime = (N - k) * dtau\n",
    "        Ups1 = 1.0 / math.tanh(dtau) + \\\n",
    "               1.0 / math.tanh(dtau_prime)\n",
    "        Ups2 = x[k - 1] / math.sinh(dtau) + \\\n",
    "               xend / math.sinh(dtau_prime)\n",
    "        x.append(random.gauss(Ups2 / Ups1, \\\n",
    "               1.0 / math.sqrt(Ups1)))\n",
    "    return x\n",
    "\n",
    "beta = 20.0\n",
    "N = 100\n",
    "Ncut = int(N/2.0)\n",
    "dtau = beta / N\n",
    "delta = 1.0\n",
    "n_steps = 1000000\n",
    "x = [5.0] * N\n",
    "cubic = 0\n",
    "quartic = 0\n",
    "data = []\n",
    "for step in range(n_steps):\n",
    "    Weight_old = math.exp(sum(-V(a, cubic, quartic) * dtau for a in x))\n",
    "    x_new = levy_free_path(x[0], x[Ncut], dtau, Ncut) + x[Ncut:]\n",
    "    Weight_new = math.exp(sum(-V(a, cubic, quartic) * dtau for a in x_new))\n",
    "\n",
    "    if random.uniform(0.0, 1.0) < Weight_new / Weight_old: #Metropolis selection rule\n",
    "        x = x_new[:]   \n",
    "    x = x[1:] + x[:1]\n",
    "    if step % N == 0:\n",
    "        k = random.randint(0, N - 1)\n",
    "        data.append(x[k])"
   ]
  },
  {
   "cell_type": "markdown",
   "metadata": {},
   "source": [
    "**C1 (continued)**\n",
    "\n",
    "Run it for beta=20, N=100, and -cubic=quartic=1. Upload the histogram of the x positions."
   ]
  },
  {
   "cell_type": "code",
   "execution_count": 40,
   "metadata": {},
   "outputs": [
    {
     "data": {
      "image/png": "[encoded data removed]",
      "text/plain": [
       "<Figure size 432x288 with 1 Axes>"
      ]
     },
     "metadata": {
      "needs_background": "light"
     },
     "output_type": "display_data"
    }
   ],
   "source": [
    "pylab.hist(data,  bins=100, density= True, stacked = True, ec = \"black\", label='data')\n",
    "pylab.legend()\n",
    "pylab.xlabel('$x$')\n",
    "pylab.ylabel('$\\\\pi(x)$ (normalized)')\n",
    "pylab.title('levy_path (beta=%s, N=%i)' % (beta, N))\n",
    "pylab.xlim(-2, 2)\n",
    "#pylab.savefig('plot_B1_beta%s.png' % beta)\n",
    "pylab.show()"
   ]
  },
  {
   "cell_type": "markdown",
   "metadata": {},
   "source": [
    "**C2**\n",
    "\n",
    "Adapt the program of Section C1 now using the harmonic Lévy construction rather than the free Lévy construction. Please notice that the potential V of Section C1 must be replaced with a potential\n",
    "\n",
    "**def V_anharm(x, cubic, quartic):**\n",
    "\n",
    "which should no longer contain the harmonic (x**2) part. The Trotter weight likewise should contain V_anharm rather than the entire V.\n",
    "\n",
    "As in C1, you should only reconstruct a portion of the path (from 0 to Ncut -1, with an appropriate choice of Ncut).\n",
    "\n",
    "Make sure your program agrees with  Section B2 for cubic = quartic = 0.0.\n",
    "\n",
    "- Upload your program."
   ]
  },
  {
   "cell_type": "code",
   "execution_count": 53,
   "metadata": {},
   "outputs": [
    {
     "data": {
      "image/png": "[encoded data removed]",
      "text/plain": [
       "<Figure size 432x288 with 1 Axes>"
      ]
     },
     "metadata": {
      "needs_background": "light"
     },
     "output_type": "display_data"
    }
   ],
   "source": [
    "import math, random, numpy, pylab\n",
    "#anharmonic potential\n",
    "def V_anharm(x, cubic, quartic): \n",
    "    pot = cubic * x ** 3 + quartic * x ** 4\n",
    "    return pot\n",
    "\n",
    "#levy free path\n",
    "def levy_free_path(xstart, xend, dtau, N):\n",
    "    x = [xstart]\n",
    "    for k in range(1, N):\n",
    "        dtau_prime = (N - k) * dtau\n",
    "        x_mean = (dtau_prime * x[k - 1] + dtau * xend) / \\\n",
    "                 (dtau + dtau_prime)\n",
    "        sigma = math.sqrt(1.0 / (1.0 / dtau + 1.0 / dtau_prime))\n",
    "        x.append(random.gauss(x_mean, sigma))\n",
    "    return x\n",
    "\n",
    "#levy harmonic path\n",
    "def levy_harmonic_path(xstart, xend, dtau, N):\n",
    "    x = [xstart]\n",
    "    for k in range(1, N):\n",
    "        dtau_prime = (N - k) * dtau\n",
    "        Ups1 = 1.0 / math.tanh(dtau) + \\\n",
    "               1.0 / math.tanh(dtau_prime)\n",
    "        Ups2 = x[k - 1] / math.sinh(dtau) + \\\n",
    "               xend / math.sinh(dtau_prime)\n",
    "        x.append(random.gauss(Ups2 / Ups1, \\\n",
    "               1.0 / math.sqrt(Ups1)))\n",
    "    return x\n",
    "\n",
    "beta = 20.0\n",
    "N = 100\n",
    "Ncut = int(N/2.0)\n",
    "dtau = beta / N\n",
    "delta = 1.0\n",
    "n_steps = 100000\n",
    "x = [5.0] * N\n",
    "cubic = 0\n",
    "quartic = 0\n",
    "data = []\n",
    "for step in range(n_steps):\n",
    "    Weight_old = math.exp(sum(-V_anharm(a, cubic, quartic) * dtau for a in x))\n",
    "    x_new = levy_harmonic_path(x[0], x[Ncut], dtau, Ncut) + x[Ncut:]\n",
    "    Weight_new = math.exp(sum(-V_anharm(a, cubic, quartic) * dtau for a in x_new))\n",
    "\n",
    "    if random.uniform(0.0, 1.0) < Weight_new / Weight_old: #Metropolis selection rule\n",
    "        x = x_new[:]   \n",
    "    x = x[1:] + x[:1]\n",
    "    if step % N == 0:\n",
    "        k = random.randint(0, N - 1)\n",
    "        data.append(x[k])\n",
    "pylab.hist(data,  bins=100, density= True, stacked = True, ec = \"black\", label='data')\n",
    "pylab.legend()\n",
    "pylab.xlabel('$x$')\n",
    "pylab.ylabel('$\\\\pi(x)$ (normalized)')\n",
    "pylab.title('levy_path (beta=%s, N=%i)' % (beta, N))\n",
    "pylab.xlim(-2, 2)\n",
    "#pylab.savefig('plot_B1_beta%s.png' % beta)\n",
    "pylab.show()"
   ]
  },
  {
   "cell_type": "markdown",
   "metadata": {},
   "source": [
    "**C2 (continued)**\n",
    "\n",
    "- Run your program  at beta = 20, N=100, for -cubic = quartic = 1, and upload a graphics  file with the histogram of x positions for -cubic = quartic = 1."
   ]
  },
  {
   "cell_type": "code",
   "execution_count": 65,
   "metadata": {},
   "outputs": [
    {
     "ename": "ZeroDivisionError",
     "evalue": "float division by zero",
     "output_type": "error",
     "traceback": [
      "\u001b[0;31m---------------------------------------------------------------------------\u001b[0m",
      "\u001b[0;31mZeroDivisionError\u001b[0m                         Traceback (most recent call last)",
      "\u001b[0;32m<ipython-input-65-5c4d9a812e09>\u001b[0m in \u001b[0;36m<module>\u001b[0;34m\u001b[0m\n\u001b[1;32m     45\u001b[0m     \u001b[0mWeight_new\u001b[0m \u001b[0;34m=\u001b[0m \u001b[0mmath\u001b[0m\u001b[0;34m.\u001b[0m\u001b[0mexp\u001b[0m\u001b[0;34m(\u001b[0m\u001b[0msum\u001b[0m\u001b[0;34m(\u001b[0m\u001b[0;34m-\u001b[0m\u001b[0mV_anharm\u001b[0m\u001b[0;34m(\u001b[0m\u001b[0ma\u001b[0m\u001b[0;34m,\u001b[0m \u001b[0mcubic\u001b[0m\u001b[0;34m,\u001b[0m \u001b[0mquartic\u001b[0m\u001b[0;34m)\u001b[0m \u001b[0;34m*\u001b[0m \u001b[0mdtau\u001b[0m \u001b[0;32mfor\u001b[0m \u001b[0ma\u001b[0m \u001b[0;32min\u001b[0m \u001b[0mx_new\u001b[0m\u001b[0;34m)\u001b[0m\u001b[0;34m)\u001b[0m\u001b[0;34m\u001b[0m\u001b[0;34m\u001b[0m\u001b[0m\n\u001b[1;32m     46\u001b[0m     \u001b[0;31m#print(Weight_new)\u001b[0m\u001b[0;34m\u001b[0m\u001b[0;34m\u001b[0m\u001b[0;34m\u001b[0m\u001b[0m\n\u001b[0;32m---> 47\u001b[0;31m     \u001b[0;32mif\u001b[0m \u001b[0mrandom\u001b[0m\u001b[0;34m.\u001b[0m\u001b[0muniform\u001b[0m\u001b[0;34m(\u001b[0m\u001b[0;36m0.0\u001b[0m\u001b[0;34m,\u001b[0m \u001b[0;36m1.0\u001b[0m\u001b[0;34m)\u001b[0m \u001b[0;34m<\u001b[0m \u001b[0mWeight_new\u001b[0m \u001b[0;34m/\u001b[0m \u001b[0mWeight_old\u001b[0m\u001b[0;34m:\u001b[0m \u001b[0;31m#Metropolis selection rule\u001b[0m\u001b[0;34m\u001b[0m\u001b[0;34m\u001b[0m\u001b[0m\n\u001b[0m\u001b[1;32m     48\u001b[0m         \u001b[0mx\u001b[0m \u001b[0;34m=\u001b[0m \u001b[0mx_new\u001b[0m\u001b[0;34m[\u001b[0m\u001b[0;34m:\u001b[0m\u001b[0;34m]\u001b[0m\u001b[0;34m\u001b[0m\u001b[0;34m\u001b[0m\u001b[0m\n\u001b[1;32m     49\u001b[0m     \u001b[0mx\u001b[0m \u001b[0;34m=\u001b[0m \u001b[0mx\u001b[0m\u001b[0;34m[\u001b[0m\u001b[0;36m1\u001b[0m\u001b[0;34m:\u001b[0m\u001b[0;34m]\u001b[0m \u001b[0;34m+\u001b[0m \u001b[0mx\u001b[0m\u001b[0;34m[\u001b[0m\u001b[0;34m:\u001b[0m\u001b[0;36m1\u001b[0m\u001b[0;34m]\u001b[0m\u001b[0;34m\u001b[0m\u001b[0;34m\u001b[0m\u001b[0m\n",
      "\u001b[0;31mZeroDivisionError\u001b[0m: float division by zero"
     ]
    }
   ],
   "source": [
    "import math, random, numpy, pylab\n",
    "#anharmonic potential\n",
    "def V_anharm(x, cubic, quartic): \n",
    "    pot = cubic * x ** 3 + quartic * x ** 4\n",
    "    return pot\n",
    "\n",
    "#levy free path\n",
    "def levy_free_path(xstart, xend, dtau, N):\n",
    "    x = [xstart]\n",
    "    for k in range(1, N):\n",
    "        dtau_prime = (N - k) * dtau\n",
    "        x_mean = (dtau_prime * x[k - 1] + dtau * xend) / \\\n",
    "                 (dtau + dtau_prime)\n",
    "        sigma = math.sqrt(1.0 / (1.0 / dtau + 1.0 / dtau_prime))\n",
    "        x.append(random.gauss(x_mean, sigma))\n",
    "    return x\n",
    "\n",
    "#levy harmonic path\n",
    "def levy_harmonic_path(xstart, xend, dtau, N):\n",
    "    x = [xstart]\n",
    "    for k in range(1, N):\n",
    "        dtau_prime = (N - k) * dtau\n",
    "        Ups1 = 1.0 / math.tanh(dtau) + \\\n",
    "               1.0 / math.tanh(dtau_prime)\n",
    "        Ups2 = x[k - 1] / math.sinh(dtau) + \\\n",
    "               xend / math.sinh(dtau_prime)\n",
    "        x.append(random.gauss(Ups2 / Ups1, \\\n",
    "               1.0 / math.sqrt(Ups1)))\n",
    "    return x\n",
    "\n",
    "beta = 20.0\n",
    "N = 100\n",
    "Ncut = int(N/2.0)\n",
    "dtau = beta / N\n",
    "delta = 1.0\n",
    "n_steps = 10000\n",
    "x = [5.0] * N\n",
    "cubic = -1\n",
    "quartic = 1\n",
    "data = []\n",
    "for step in range(n_steps):\n",
    "    Weight_old = math.exp(sum(-V_anharm(a, cubic, quartic) * dtau for a in x))\n",
    "    x_new = levy_harmonic_path(x[0], x[Ncut], dtau, Ncut) + x[Ncut:]\n",
    "    #print(Weight_old)\n",
    "    Weight_new = math.exp(sum(-V_anharm(a, cubic, quartic) * dtau for a in x_new))\n",
    "    #print(Weight_new)\n",
    "    if random.uniform(0.0, 1.0) < Weight_new / Weight_old: #Metropolis selection rule\n",
    "        x = x_new[:]   \n",
    "    x = x[1:] + x[:1]\n",
    "    if step % N == 0:\n",
    "        k = random.randint(0, N - 1)\n",
    "        data.append(x[k])\n",
    "pylab.hist(data,  bins=100, density= True, stacked = True, ec = \"black\", label='data')\n",
    "pylab.legend()\n",
    "pylab.xlabel('$x$')\n",
    "pylab.ylabel('$\\\\pi(x)$ (normalized)')\n",
    "pylab.title('levy_path (beta=%s, N=%i)' % (beta, N))\n",
    "pylab.xlim(-2, 2)\n",
    "#pylab.savefig('plot_B1_beta%s.png' % beta)\n",
    "pylab.show()"
   ]
  },
  {
   "cell_type": "markdown",
   "metadata": {},
   "source": [
    "**C2 (continued)**\n",
    "\n",
    "- Run your program  at beta = 20, N=100, for -cubic = quartic = 1, and upload a graphics  file with the histogram of x positions for -cubic = quartic = 1."
   ]
  }
 ],
 "metadata": {
  "kernelspec": {
   "display_name": "Python 3",
   "language": "python",
   "name": "python3"
  },
  "language_info": {
   "codemirror_mode": {
    "name": "ipython",
    "version": 3
   },
   "file_extension": ".py",
   "mimetype": "text/x-python",
   "name": "python",
   "nbconvert_exporter": "python",
   "pygments_lexer": "ipython3",
   "version": "3.8.5"
  }
 },
 "nbformat": 4,
 "nbformat_minor": 4
}
