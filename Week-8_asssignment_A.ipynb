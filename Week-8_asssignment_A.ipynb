{
 "cells": [
  {
   "cell_type": "markdown",
   "metadata": {},
   "source": [
    "**A**\n",
    "\n",
    "In this Section, you implement the **local Metropolis algorithm**, and compare its output with an exactly known result. In **real applications, this validation run** would last many days, and you would try to establish agreement with the exact result to 5 or 6 significant digits.\n",
    "\n",
    "**A1**\n",
    "\n",
    "Download (cut-and-paste) the **local Metropolis algorithm** for the Ising model, as shown below.\n",
    "\n"
   ]
  },
  {
   "cell_type": "code",
   "execution_count": 1,
   "metadata": {},
   "outputs": [
    {
     "name": "stdout",
     "output_type": "stream",
     "text": [
      "mean energy per spin: -1.6240432098765432\n"
     ]
    }
   ],
   "source": [
    "import random, math\n",
    "\n",
    "def energy(S, N, nbr):\n",
    "    E = 0.0\n",
    "    for k in range(N):\n",
    "        E -=  S[k] * sum(S[nn] for nn in nbr[k])\n",
    "    return 0.5 * E\n",
    "\n",
    "L = 6\n",
    "N = L * L\n",
    "nbr = {i : ((i // L) * L + (i + 1) % L, (i + L) % N,\n",
    "            (i // L) * L + (i - 1) % L, (i - L) % N) \\\n",
    "                                    for i in range(N)}\n",
    "\n",
    "T = 2.0\n",
    "S = [random.choice([1, -1]) for k in range(N)]\n",
    "nsteps = N * 100\n",
    "beta = 1.0 / T\n",
    "Energy = energy(S, N, nbr)\n",
    "E = []\n",
    "for step in range(nsteps):\n",
    "    k = random.randint(0, N - 1)\n",
    "    delta_E = 2.0 * S[k] * sum(S[nn] for nn in nbr[k])\n",
    "    if random.uniform(0.0, 1.0) < math.exp(-beta * delta_E):\n",
    "        S[k] *= -1\n",
    "        Energy += delta_E\n",
    "    E.append(Energy)\n",
    "print('mean energy per spin:', sum(E) / float(len(E) * N))"
   ]
  },
  {
   "cell_type": "markdown",
   "metadata": {},
   "source": [
    "- Run the local Metropolis algorithm for L=6 and T=2.0 (greatly increase the number of iterations nsteps). Check that you recover the exact value of the average energy per spin: E/N =-1.7473... (known from exact enumeration). To do so, communicate the results obtained in four independent runs of the algorithms (no calculation of error bars required). Indicate your value of nsteps."
   ]
  },
  {
   "cell_type": "code",
   "execution_count": 2,
   "metadata": {},
   "outputs": [
    {
     "name": "stdout",
     "output_type": "stream",
     "text": [
      "mean energy per spin: -1.7474970617283951\n"
     ]
    }
   ],
   "source": [
    "import random, math\n",
    "\n",
    "def energy(S, N, nbr):\n",
    "    E = 0.0\n",
    "    for k in range(N):\n",
    "        E -=  S[k] * sum(S[nn] for nn in nbr[k])\n",
    "    return 0.5 * E\n",
    "\n",
    "L = 6\n",
    "N = L * L\n",
    "nbr = {i : ((i // L) * L + (i + 1) % L, (i + L) % N,\n",
    "            (i // L) * L + (i - 1) % L, (i - L) % N) \\\n",
    "                                    for i in range(N)}\n",
    "\n",
    "T = 2.0\n",
    "S = [random.choice([1, -1]) for k in range(N)]\n",
    "nsteps = N * 1000000\n",
    "beta = 1.0 / T\n",
    "Energy = energy(S, N, nbr)\n",
    "E = []\n",
    "for step in range(nsteps):\n",
    "    k = random.randint(0, N - 1)\n",
    "    delta_E = 2.0 * S[k] * sum(S[nn] for nn in nbr[k])\n",
    "    if random.uniform(0.0, 1.0) < math.exp(-beta * delta_E):\n",
    "        S[k] *= -1\n",
    "        Energy += delta_E\n",
    "    E.append(Energy)\n",
    "print('mean energy per spin:', sum(E) / float(len(E) * N))"
   ]
  },
  {
   "cell_type": "markdown",
   "metadata": {},
   "source": [
    "N = 3600, E/N = -1.6115 <br>\n",
    "N = 36000, E/N = -1.725 <br>\n",
    "N = 360000, E/N = -1.7365 <br>\n",
    "N = 3600000, E/N = -1.746 <br>\n",
    "N = 36000000, E/N = -1.747208... <br> "
   ]
  },
  {
   "cell_type": "markdown",
   "metadata": {},
   "source": [
    "**A2**\n",
    "\n",
    "Modify the program of Section A1, by adding the two following features:\n",
    "\n",
    "- reading in the initial configuration from a file (if possible),\n",
    "\n",
    "- writing out the final configuration on a file,\n",
    "\n",
    "- showing a plot of the final configuration.\n",
    "\n",
    "Here are three snippets for reading, storing, and plotting a configuration."
   ]
  },
  {
   "cell_type": "code",
   "execution_count": 3,
   "metadata": {},
   "outputs": [
    {
     "name": "stdout",
     "output_type": "stream",
     "text": [
      "mean energy per spin: -0.8036473235487938\n",
      "Starting from file data_local_128_3.0.txt\n"
     ]
    },
    {
     "data": {
      "image/png": "[encoded data removed]",
      "text/plain": [
       "<Figure size 432x288 with 1 Axes>"
      ]
     },
     "metadata": {
      "needs_background": "light"
     },
     "output_type": "display_data"
    }
   ],
   "source": [
    "import random, math,os\n",
    "import pylab\n",
    "\n",
    "def energy(S, N, nbr):\n",
    "    E = 0.0\n",
    "    for k in range(N):\n",
    "        E -=  S[k] * sum(S[nn] for nn in nbr[k])\n",
    "    return 0.5 * E\n",
    "\n",
    "L = 128\n",
    "N = L * L\n",
    "nbr = {i : ((i // L) * L + (i + 1) % L, (i + L) % N,\n",
    "            (i // L) * L + (i - 1) % L, (i - L) % N) \\\n",
    "                                    for i in range(N)}\n",
    "\n",
    "T = 3.0\n",
    "S = [random.choice([1, -1]) for k in range(N)]\n",
    "nsteps = N * 100\n",
    "beta = 1.0 / T\n",
    "Energy = energy(S, N, nbr)\n",
    "E = []\n",
    "for step in range(nsteps):\n",
    "    k = random.randint(0, N - 1)\n",
    "    delta_E = 2.0 * S[k] * sum(S[nn] for nn in nbr[k])\n",
    "    if random.uniform(0.0, 1.0) < math.exp(-beta * delta_E):\n",
    "        S[k] *= -1\n",
    "        Energy += delta_E\n",
    "    E.append(Energy)\n",
    "print('mean energy per spin:', sum(E) / float(len(E) * N))\n",
    "\n",
    "filename = 'data_local_'+ str(L) + '_' + str(T) + '.txt'\n",
    "\n",
    "if os.path.isfile(filename):\n",
    "    f = open(filename, 'r')\n",
    "    S = []\n",
    "    for line in f:\n",
    "        S.append(int(line))\n",
    "    f.close()\n",
    "    print ('Starting from file', filename)\n",
    "else:\n",
    "    S = [random.choice([1, -1]) for k in range(N)]\n",
    "    print('Starting from a random configuration')\n",
    "    \n",
    "f = open(filename, 'w')\n",
    "for a in S:\n",
    "    f.write(str(a) + '\\n')\n",
    "f.close()\n",
    "\n",
    "\n",
    "def x_y(k, L):\n",
    "    y = k // L\n",
    "    x = k - y * L\n",
    "    return x, y\n",
    "\n",
    "conf = [[0 for x in range(L)] for y in range(L)]\n",
    "for k in range(N):\n",
    "    x, y = x_y(k, L)\n",
    "    conf[x][y] = S[k]\n",
    "\n",
    "pylab.imshow(conf, extent=[0, L, 0, L], interpolation='nearest')\n",
    "pylab.set_cmap('hot')\n",
    "pylab.title('Local_'+ str(T) + '_' + str(L))\n",
    "pylab.savefig('plot_A2_local_'+ str(T) + '_' + str(L)+ '.png')\n",
    "pylab.show()"
   ]
  },
  {
   "cell_type": "markdown",
   "metadata": {},
   "source": [
    "**A2 (continued)**\n",
    "\n",
    "Repeat the same as in the previous point, with several runs at the critical temperature **T_crit = 2.27** (probably you should run your code for at least a few minutes). **Upload one plot** of a typical configuration."
   ]
  },
  {
   "cell_type": "code",
   "execution_count": 4,
   "metadata": {},
   "outputs": [
    {
     "name": "stdout",
     "output_type": "stream",
     "text": [
      "mean energy per spin: -1.3530538439452648\n",
      "Starting from file data_local_128_2.27.txt\n"
     ]
    },
    {
     "data": {
      "image/png": "[encoded data removed]",
      "text/plain": [
       "<Figure size 432x288 with 1 Axes>"
      ]
     },
     "metadata": {
      "needs_background": "light"
     },
     "output_type": "display_data"
    }
   ],
   "source": [
    "import random, math,os\n",
    "import pylab\n",
    "\n",
    "def energy(S, N, nbr):\n",
    "    E = 0.0\n",
    "    for k in range(N):\n",
    "        E -=  S[k] * sum(S[nn] for nn in nbr[k])\n",
    "    return 0.5 * E\n",
    "\n",
    "L = 128\n",
    "N = L * L\n",
    "nbr = {i : ((i // L) * L + (i + 1) % L, (i + L) % N,\n",
    "            (i // L) * L + (i - 1) % L, (i - L) % N) \\\n",
    "                                    for i in range(N)}\n",
    "\n",
    "T = 2.27\n",
    "S = [random.choice([1, -1]) for k in range(N)]\n",
    "nsteps = N * 1000\n",
    "beta = 1.0 / T\n",
    "Energy = energy(S, N, nbr)\n",
    "E = []\n",
    "for step in range(nsteps):\n",
    "    k = random.randint(0, N - 1)\n",
    "    delta_E = 2.0 * S[k] * sum(S[nn] for nn in nbr[k])\n",
    "    if random.uniform(0.0, 1.0) < math.exp(-beta * delta_E):\n",
    "        S[k] *= -1\n",
    "        Energy += delta_E\n",
    "    E.append(Energy)\n",
    "print('mean energy per spin:', sum(E) / float(len(E) * N))\n",
    "\n",
    "filename = 'data_local_'+ str(L) + '_' + str(T) + '.txt'\n",
    "\n",
    "if os.path.isfile(filename):\n",
    "    f = open(filename, 'r')\n",
    "    S = []\n",
    "    for line in f:\n",
    "        S.append(int(line))\n",
    "    f.close()\n",
    "    print ('Starting from file', filename)\n",
    "else:\n",
    "    S = [random.choice([1, -1]) for k in range(N)]\n",
    "    print('Starting from a random configuration')\n",
    "    \n",
    "f = open(filename, 'w')\n",
    "for a in S:\n",
    "    f.write(str(a) + '\\n')\n",
    "f.close()\n",
    "\n",
    "\n",
    "def x_y(k, L):\n",
    "    y = k // L\n",
    "    x = k - y * L\n",
    "    return x, y\n",
    "\n",
    "conf = [[0 for x in range(L)] for y in range(L)]\n",
    "for k in range(N):\n",
    "    x, y = x_y(k, L)\n",
    "    conf[x][y] = S[k]\n",
    "\n",
    "pylab.imshow(conf, extent=[0, L, 0, L], interpolation='nearest')\n",
    "pylab.set_cmap('hot')\n",
    "pylab.title('Local_'+ str(T) + '_' + str(L))\n",
    "pylab.savefig('plot_A2_local_'+ str(T) + '_' + str(L)+ '.png')\n",
    "pylab.show()"
   ]
  },
  {
   "cell_type": "markdown",
   "metadata": {},
   "source": [
    "At low temperature, T=1.0, run your code for L=32, first for 10*N iterations, then again, several times for 10*N iterations, then several times for 100*N  iterations (if you see a stripe, run your program longer, up to several  times 1000*N or several times 10000*N iterations). You should observe  that, after a quite long time, your simulation goes from a state with  domain walls into a purely ferromagnetic state (essentially all spins +1  or essentially all spins -1).  Upload two graphics files at different times (here and in the following prompt).\n",
    "\n",
    "**A2 (continued)**\n",
    "- Upload the second graphics file (again for N=32 and at T=1.0, but for longer time)."
   ]
  },
  {
   "cell_type": "code",
   "execution_count": 17,
   "metadata": {},
   "outputs": [
    {
     "name": "stdout",
     "output_type": "stream",
     "text": [
      "mean energy per spin: -1.9941679050445558\n",
      "Starting from file data_local_32_1.0.txt\n"
     ]
    },
    {
     "data": {
      "image/png": "[encoded data removed]",
      "text/plain": [
       "<Figure size 432x288 with 1 Axes>"
      ]
     },
     "metadata": {
      "needs_background": "light"
     },
     "output_type": "display_data"
    }
   ],
   "source": [
    "import random, math,os\n",
    "import pylab\n",
    "\n",
    "def energy(S, N, nbr):\n",
    "    E = 0.0\n",
    "    for k in range(N):\n",
    "        E -=  S[k] * sum(S[nn] for nn in nbr[k])\n",
    "    return 0.5 * E\n",
    "\n",
    "L = 32\n",
    "N = L * L\n",
    "nbr = {i : ((i // L) * L + (i + 1) % L, (i + L) % N,\n",
    "            (i // L) * L + (i - 1) % L, (i - L) % N) \\\n",
    "                                    for i in range(N)}\n",
    "\n",
    "T = 1.0\n",
    "S = [random.choice([1, -1]) for k in range(N)]\n",
    "nsteps = N * 10000\n",
    "beta = 1.0 / T\n",
    "Energy = energy(S, N, nbr)\n",
    "E = []\n",
    "for step in range(nsteps):\n",
    "    k = random.randint(0, N - 1)\n",
    "    delta_E = 2.0 * S[k] * sum(S[nn] for nn in nbr[k])\n",
    "    if random.uniform(0.0, 1.0) < math.exp(-beta * delta_E):\n",
    "        S[k] *= -1\n",
    "        Energy += delta_E\n",
    "    E.append(Energy)\n",
    "print('mean energy per spin:', sum(E) / float(len(E) * N))\n",
    "\n",
    "filename = 'data_local_'+ str(L) + '_' + str(T) + '.txt'\n",
    "\n",
    "if os.path.isfile(filename):\n",
    "    f = open(filename, 'r')\n",
    "    S = []\n",
    "    for line in f:\n",
    "        S.append(int(line))\n",
    "    f.close()\n",
    "    print ('Starting from file', filename)\n",
    "else:\n",
    "    S = [random.choice([1, -1]) for k in range(N)]\n",
    "    print('Starting from a random configuration')\n",
    "    \n",
    "f = open(filename, 'w')\n",
    "for a in S:\n",
    "    f.write(str(a) + '\\n')\n",
    "f.close()\n",
    "\n",
    "\n",
    "def x_y(k, L):\n",
    "    y = k // L\n",
    "    x = k - y * L\n",
    "    return x, y\n",
    "\n",
    "conf = [[0 for x in range(L)] for y in range(L)]\n",
    "for k in range(N):\n",
    "    x, y = x_y(k, L)\n",
    "    conf[x][y] = S[k]\n",
    "\n",
    "pylab.imshow(conf, extent=[0, L, 0, L], interpolation='nearest')\n",
    "pylab.set_cmap('hot')\n",
    "pylab.title('Local_'+ str(T) + '_' + str(L))\n",
    "pylab.savefig('plot_A2_local_'+ str(T) + '_' + str(L)+ '.png')\n",
    "pylab.show()"
   ]
  },
  {
   "cell_type": "markdown",
   "metadata": {},
   "source": [
    "**A2 (continued)**\n",
    "\n",
    "- **Comment** on what you see: **Do you observe**  (running for several times 10000*N  iterations) that the local  Metropolis algorithm ever flips between configurations of negative  overall magnetization (mostly black) and configurations of positive  overall magnetization (mostly white)?\n",
    "\n",
    "\n",
    "**A2 (continued)**\n",
    "\n",
    "- At low temperature, T=1.0 (as before), run your code for L=128 and upload a graphics file.\n",
    "\n",
    "As mentioned we do observe a ferromagnetic state with a complete positive state or negative state, depicted as black or white stripes in the image.  "
   ]
  },
  {
   "cell_type": "code",
   "execution_count": 19,
   "metadata": {},
   "outputs": [
    {
     "name": "stdout",
     "output_type": "stream",
     "text": [
      "mean energy per spin: -1.3012335747480392\n",
      "Starting from file data_local_128_1.0.txt\n"
     ]
    },
    {
     "data": {
      "image/png": "[encoded data removed]",
      "text/plain": [
       "<Figure size 432x288 with 1 Axes>"
      ]
     },
     "metadata": {
      "needs_background": "light"
     },
     "output_type": "display_data"
    }
   ],
   "source": [
    "import random, math,os\n",
    "import pylab\n",
    "\n",
    "def energy(S, N, nbr):\n",
    "    E = 0.0\n",
    "    for k in range(N):\n",
    "        E -=  S[k] * sum(S[nn] for nn in nbr[k])\n",
    "    return 0.5 * E\n",
    "\n",
    "L = 128\n",
    "N = L * L\n",
    "nbr = {i : ((i // L) * L + (i + 1) % L, (i + L) % N,\n",
    "            (i // L) * L + (i - 1) % L, (i - L) % N) \\\n",
    "                                    for i in range(N)}\n",
    "\n",
    "T = 1.0\n",
    "S = [random.choice([1, -1]) for k in range(N)]\n",
    "nsteps = N * 10\n",
    "beta = 1.0 / T\n",
    "Energy = energy(S, N, nbr)\n",
    "E = []\n",
    "for step in range(nsteps):\n",
    "    k = random.randint(0, N - 1)\n",
    "    delta_E = 2.0 * S[k] * sum(S[nn] for nn in nbr[k])\n",
    "    if random.uniform(0.0, 1.0) < math.exp(-beta * delta_E):\n",
    "        S[k] *= -1\n",
    "        Energy += delta_E\n",
    "    E.append(Energy)\n",
    "print('mean energy per spin:', sum(E) / float(len(E) * N))\n",
    "\n",
    "filename = 'data_local_'+ str(L) + '_' + str(T) + '.txt'\n",
    "\n",
    "if os.path.isfile(filename):\n",
    "    f = open(filename, 'r')\n",
    "    S = []\n",
    "    for line in f:\n",
    "        S.append(int(line))\n",
    "    f.close()\n",
    "    print ('Starting from file', filename)\n",
    "else:\n",
    "    S = [random.choice([1, -1]) for k in range(N)]\n",
    "    print('Starting from a random configuration')\n",
    "    \n",
    "f = open(filename, 'w')\n",
    "for a in S:\n",
    "    f.write(str(a) + '\\n')\n",
    "f.close()\n",
    "\n",
    "\n",
    "def x_y(k, L):\n",
    "    y = k // L\n",
    "    x = k - y * L\n",
    "    return x, y\n",
    "\n",
    "conf = [[0 for x in range(L)] for y in range(L)]\n",
    "for k in range(N):\n",
    "    x, y = x_y(k, L)\n",
    "    conf[x][y] = S[k]\n",
    "\n",
    "pylab.imshow(conf, extent=[0, L, 0, L], interpolation='nearest')\n",
    "pylab.set_cmap('hot')\n",
    "pylab.title('Local_'+ str(T) + '_' + str(L))\n",
    "pylab.savefig('plot_A2_local_'+ str(T) + '_' + str(L)+ '.png')\n",
    "pylab.show()"
   ]
  },
  {
   "cell_type": "markdown",
   "metadata": {},
   "source": [
    "**A2 (continued)**\n",
    "\n",
    "- **Explain** what  you observe. In particular, do you observe that the system becomes  homogeneous (mostly white or mostly black) on the available time scales?\n",
    "\n",
    "Yes, we do observe that the system becomes homogeneous (mostly white or mostly black) on the available time scales.\n"
   ]
  },
  {
   "cell_type": "code",
   "execution_count": null,
   "metadata": {},
   "outputs": [],
   "source": []
  }
 ],
 "metadata": {
  "kernelspec": {
   "display_name": "Python 3",
   "language": "python",
   "name": "python3"
  },
  "language_info": {
   "codemirror_mode": {
    "name": "ipython",
    "version": 3
   },
   "file_extension": ".py",
   "mimetype": "text/x-python",
   "name": "python",
   "nbconvert_exporter": "python",
   "pygments_lexer": "ipython3",
   "version": "3.8.5"
  }
 },
 "nbformat": 4,
 "nbformat_minor": 4
}
