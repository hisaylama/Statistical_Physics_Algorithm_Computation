{
 "cells": [
  {
   "cell_type": "markdown",
   "metadata": {},
   "source": [
    "#### Markov chain Monte Carlo Algorithm for d-dimensional sphere\n",
    "\n",
    "List of the configuration point: x = [x_0, x_1, x_2, x_3, ..., x{d-1}]\n",
    "\n",
    "Initial value of {x} = [0, 0, ....upto d-1], \n",
    "\n",
    "Code generates the set of Radius for d-dimensional sphere via Markov sampling:"
   ]
  },
  {
   "cell_type": "code",
   "execution_count": 1,
   "metadata": {},
   "outputs": [],
   "source": [
    "import random, math\n",
    "import numpy as np\n",
    "\n",
    "#d = the dimension of a system\n",
    "#n_trials = # of trials\n",
    "#old_radius_square = 0.0\n",
    "\n",
    "def d_dimensional_Volume(d, n_trials, old_radius_square):\n",
    "    #initialization of the quantity\n",
    "    x = [0]*d \n",
    "    delta =0.1\n",
    "    n_hits = 0\n",
    "    Radius = []\n",
    "    for i in range(n_trials):\n",
    "        k = random.randint(0, d - 1)\n",
    "        x_old_k = x[k]\n",
    "        x_new_k = x_old_k + random.uniform(-delta, delta)\n",
    "        new_radius_square = old_radius_square + x_new_k ** 2 - x_old_k ** 2\n",
    "    \n",
    "        if abs(new_radius_square) < 1.0 and abs((x_new_k)**2) < 1.0: \n",
    "            x[k] = x_new_k  #update the old x[k]\n",
    "            old_radius_square = new_radius_square #update the old_radius \n",
    "            Radius.append(math.sqrt(new_radius_square))\n",
    "    return(Radius)"
   ]
  },
  {
   "cell_type": "markdown",
   "metadata": {},
   "source": [
    "#### B1. Comparising of the radius obtained via MC sampling and directly for P(r) = 4r^3 (0<r<1), d = 4 \n",
    "\n",
    "r = sqrt(x[0]** 2 + x[1]** 2 + ... +x[3]** 2) "
   ]
  },
  {
   "cell_type": "code",
   "execution_count": 2,
   "metadata": {},
   "outputs": [],
   "source": [
    "#Generate the radius of a d_dimensional_sphere by Markov sampling\n",
    "d = 4\n",
    "n_trials = 1000000\n",
    "old_radius_square = 0.0\n",
    "Radius = d_dimensional_Volume(4, 1000000, 0.0)"
   ]
  },
  {
   "cell_type": "code",
   "execution_count": 3,
   "metadata": {},
   "outputs": [
    {
     "data": {
      "image/png": "[encoded data removed]",
      "text/plain": [
       "<Figure size 432x288 with 1 Axes>"
      ]
     },
     "metadata": {
      "needs_background": "light"
     },
     "output_type": "display_data"
    }
   ],
   "source": [
    "import matplotlib.pyplot as plt\n",
    "import pylab\n",
    "pylab.hist(Radius,100,density = 'True', stacked = 'True', ec = 'black')\n",
    "r = np.linspace(0,1, 100)\n",
    "plt.plot(r, 4*r**3, color = 'red' )\n",
    "plt.xlabel('Radius')\n",
    "plt.ylabel('P(r)')\n",
    "plt.title('P(r) vs Radius, d = 4')\n",
    "plt.savefig('plot_Markov_chain_d_4.png')"
   ]
  },
  {
   "cell_type": "markdown",
   "metadata": {},
   "source": [
    "#### B1. Comparising of the radius obtained via MC sampling and directly for P(r) = 20r^19 (0<r<1), d = 20 \n",
    "\n",
    "r = sqrt(x[0]** 2 + x[1]** 2 + ... +x[3]** 2) "
   ]
  },
  {
   "cell_type": "code",
   "execution_count": 4,
   "metadata": {},
   "outputs": [],
   "source": [
    "#Generate the radius of a d_dimensional_sphere by Markov sampling\n",
    "d = 20\n",
    "n_trials = 1000000\n",
    "old_radius_square = 0.0\n",
    "Radius1 = d_dimensional_Volume(20, 1000000, 0.0)"
   ]
  },
  {
   "cell_type": "code",
   "execution_count": 5,
   "metadata": {},
   "outputs": [
    {
     "data": {
      "image/png": "[encoded data removed]",
      "text/plain": [
       "<Figure size 432x288 with 1 Axes>"
      ]
     },
     "metadata": {
      "needs_background": "light"
     },
     "output_type": "display_data"
    }
   ],
   "source": [
    "import matplotlib.pyplot as plt\n",
    "import pylab\n",
    "pylab.hist(Radius1,100,density = 'True', stacked = 'True', ec = 'black')\n",
    "r = np.linspace(0,1, 100)\n",
    "plt.plot(r, 20*r**19, color = 'red' )\n",
    "plt.xlabel('Radius')\n",
    "plt.ylabel('P(r)')\n",
    "plt.title('P(r) vs Radius, d = 20')\n",
    "plt.savefig('plot_Markov_chain_d_20.png')"
   ]
  },
  {
   "cell_type": "markdown",
   "metadata": {},
   "source": [
    "#### B2. Calculation of $<Q>$"
   ]
  },
  {
   "cell_type": "markdown",
   "metadata": {},
   "source": [
    "#### Calculation of Q analytically"
   ]
  },
  {
   "cell_type": "code",
   "execution_count": 6,
   "metadata": {},
   "outputs": [
    {
     "name": "stdout",
     "output_type": "stream",
     "text": [
      "Q(4) =  1.1780972450961724\n",
      "Q(200) =  0.17702396769643863\n"
     ]
    }
   ],
   "source": [
    "import random, math\n",
    "import numpy as np\n",
    "    \n",
    "def V_sph(dim):\n",
    "    return math.pi ** (dim / 2.0) / math.gamma(dim / 2.0 + 1.0)\n",
    "\n",
    "print(\"Q(4) = \", V_sph(4)/V_sph(3))\n",
    "print(\"Q(200) = \", V_sph(200)/V_sph(199))"
   ]
  },
  {
   "cell_type": "markdown",
   "metadata": {},
   "source": [
    "#### Calculation of Q numerically"
   ]
  },
  {
   "cell_type": "code",
   "execution_count": 9,
   "metadata": {},
   "outputs": [
    {
     "name": "stdout",
     "output_type": "stream",
     "text": [
      "Q(4) =  1.292914\n"
     ]
    }
   ],
   "source": [
    "# Caluclation of Q for d = 4\n",
    "import random, math\n",
    "import numpy as np\n",
    "\n",
    "#initialization of the quantity\n",
    "d = 4\n",
    "n_trials = 1000000\n",
    "old_radius_square = 0.0\n",
    "x = [0]*d \n",
    "delta =0.1\n",
    "n_hits = 0\n",
    "\n",
    "for i in range(n_trials):\n",
    "    k = random.randint(0, d - 1)\n",
    "    x_old_k = x[k]\n",
    "    x_new_k = x_old_k + random.uniform(-delta, delta)\n",
    "    new_radius_square = old_radius_square + x_new_k ** 2 - x_old_k ** 2\n",
    "    \n",
    "    if abs(new_radius_square) < 1.0 and abs((x_new_k)**2) < 1.0: \n",
    "        x[k] = x_new_k  #update the old x[k]\n",
    "        old_radius_square = new_radius_square #update the old_radius \n",
    "        delta_R = random.uniform(-1.0, 1.0)\n",
    "        if (old_radius_square + delta_R)**2 <1.0: n_hits +=1\n",
    "            \n",
    "print(\"Q(4) = \", 2*n_hits/float(n_trials)) "
   ]
  },
  {
   "cell_type": "code",
   "execution_count": 11,
   "metadata": {},
   "outputs": [
    {
     "name": "stdout",
     "output_type": "stream",
     "text": [
      "Q(200) =  0.73842\n"
     ]
    }
   ],
   "source": [
    "# Caluclation of Q for d = 4\n",
    "import random, math\n",
    "import numpy as np\n",
    "\n",
    "#initialization of the quantity\n",
    "d = 200\n",
    "n_trials = 1000000\n",
    "old_radius_square = 0.0\n",
    "x = [0]*d \n",
    "delta =0.1\n",
    "n_hits = 0\n",
    "\n",
    "for i in range(n_trials):\n",
    "    k = random.randint(0, d - 1)\n",
    "    x_old_k = x[k]\n",
    "    x_new_k = x_old_k + random.uniform(-delta, delta)\n",
    "    new_radius_square = old_radius_square + x_new_k ** 2 - x_old_k ** 2\n",
    "    \n",
    "    if abs(new_radius_square) < 1.0 and abs((x_new_k)**2) < 1.0: \n",
    "        x[k] = x_new_k  #update the old x[k]\n",
    "        old_radius_square = new_radius_square #update the old_radius \n",
    "        delta_R = random.uniform(-1.0, 1.0)\n",
    "        if (old_radius_square + delta_R)**2 <1.0: n_hits +=1\n",
    "            \n",
    "print(\"Q(200) = \", 2*n_hits/float(n_trials)) "
   ]
  },
  {
   "cell_type": "markdown",
   "metadata": {},
   "source": [
    "- Analytical value for Q(4) = 1.1780972450961724\n",
    "\n",
    "  Numerical value of Q(4) = 1.292914\n",
    "\n",
    "- Analytical value of Q(200) = 0.17702396769643863\n",
    "\n",
    "  Numerical value of A(200) = 0.737614\n"
   ]
  },
  {
   "cell_type": "code",
   "execution_count": null,
   "metadata": {},
   "outputs": [],
   "source": []
  }
 ],
 "metadata": {
  "kernelspec": {
   "display_name": "Python 3",
   "language": "python",
   "name": "python3"
  },
  "language_info": {
   "codemirror_mode": {
    "name": "ipython",
    "version": 3
   },
   "file_extension": ".py",
   "mimetype": "text/x-python",
   "name": "python",
   "nbconvert_exporter": "python",
   "pygments_lexer": "ipython3",
   "version": "3.8.5"
  }
 },
 "nbformat": 4,
 "nbformat_minor": 4
}
